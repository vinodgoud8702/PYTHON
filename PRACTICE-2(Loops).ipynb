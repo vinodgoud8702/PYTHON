{
 "cells": [
  {
   "cell_type": "markdown",
   "id": "8103e91a-592f-4a9e-876e-a880af74d87f",
   "metadata": {},
   "source": [
    "# Children And Slides"
   ]
  },
  {
   "cell_type": "code",
   "execution_count": 2,
   "id": "4cd1fa0a-478d-48b0-ac30-239107076f2c",
   "metadata": {},
   "outputs": [
    {
     "name": "stdin",
     "output_type": "stream",
     "text": [
      "Enter your number:  6\n"
     ]
    },
    {
     "name": "stdout",
     "output_type": "stream",
     "text": [
      "Hexagon has 6 slides\n"
     ]
    }
   ],
   "source": [
    "slides = {\n",
    "    1:\"Line has 1 slide\",\n",
    "    2:\"Circle has 2 slides\",\n",
    "    3:\"Triangle has 3 slides\",\n",
    "    4:\"Square has 4 slides\",\n",
    "    5:\"Pantagon has 5 slides\",\n",
    "    6:\"Hexagon has 6 slides\",\n",
    "    7:\"Septagon has 7 slides\",\n",
    "    8:\"Octogon has 8 sildes\",\n",
    "    9:\"Nanogon has 9 slides\",\n",
    "    10:\"Decogon has 10 slides\"\n",
    "}\n",
    "\n",
    "children = int(input(\"Enter your number: \"))\n",
    "\n",
    "for keys in slides:\n",
    "    if children == keys:\n",
    "        print(slides[keys])\n",
    "        break\n",
    "else:\n",
    "    print(\"Please enter correct number\")"
   ]
  },
  {
   "cell_type": "markdown",
   "id": "215fc3e1-b720-43b3-85a5-3a4c9f5eeacd",
   "metadata": {},
   "source": [
    "# months and days"
   ]
  },
  {
   "cell_type": "code",
   "execution_count": 15,
   "id": "68f82dd0-eea1-40e1-a090-12486351478e",
   "metadata": {},
   "outputs": [
    {
     "name": "stdin",
     "output_type": "stream",
     "text": [
      "enter month: feb\n"
     ]
    },
    {
     "name": "stdout",
     "output_type": "stream",
     "text": [
      "feb has 28 days\n"
     ]
    }
   ],
   "source": [
    "month=input('enter month:')\n",
    "\n",
    "_31days=['jan','march','may','july','aug','oct','dec']\n",
    "_30days=['april','june','sep','nov']\n",
    "_28days=['feb']\n",
    "\n",
    "for word in _31days:\n",
    "    if month == word:\n",
    "        print(f\"{month} has 31 days\")\n",
    "        break\n",
    "\n",
    "for word in _30days:\n",
    "    if month== word:\n",
    "        print(f\"{month} has 30 days\")\n",
    "        break\n",
    "\n",
    "for word in _28days:\n",
    "    if month== word:\n",
    "        print(f\"{month} has 28 days\")\n",
    "        break"
   ]
  },
  {
   "cell_type": "markdown",
   "id": "bb25fbf4-60a4-4fef-b2da-f7b482c1e59c",
   "metadata": {},
   "source": [
    "# leap or non - leap year"
   ]
  },
  {
   "cell_type": "code",
   "execution_count": 18,
   "id": "e031ee4d-68f1-4cec-8dca-6e4dad2b7ed4",
   "metadata": {},
   "outputs": [
    {
     "name": "stdin",
     "output_type": "stream",
     "text": [
      "Enter year:  2008\n"
     ]
    },
    {
     "name": "stdout",
     "output_type": "stream",
     "text": [
      "2008 is a leap year\n"
     ]
    }
   ],
   "source": [
    "year = int(input(\"Enter year: \"))\n",
    "\n",
    "for i in range(1):\n",
    "    if (year % 4 == 0 and year % 100 != 0) or (year % 400 == 0):\n",
    "        print(f\"{year} is a leap year\")\n",
    "    else:\n",
    "        print(\"This is not a leap year\")"
   ]
  },
  {
   "cell_type": "markdown",
   "id": "6d3f9199-a487-4afc-8933-87f01ba7b6b5",
   "metadata": {},
   "source": [
    "# Traffic Signal"
   ]
  },
  {
   "cell_type": "code",
   "execution_count": 23,
   "id": "604cf322-7a2c-4f92-8784-1796acb3bf72",
   "metadata": {},
   "outputs": [
    {
     "name": "stdin",
     "output_type": "stream",
     "text": [
      "Please Enter Your Colour:  Red\n"
     ]
    },
    {
     "name": "stdout",
     "output_type": "stream",
     "text": [
      "Please STOP\n"
     ]
    }
   ],
   "source": [
    "a = input(\"Please Enter Your Colour: \")\n",
    "\n",
    "colors = [ (\"Red\", \"Please STOP\"),\n",
    "    (\"Yellow\", \"Please Ready to Go\"),\n",
    "    (\"Green\", \"Please Go\")]\n",
    "\n",
    "found = False\n",
    "\n",
    "for color, message in colors:\n",
    "    if a == color:\n",
    "        print(message)\n",
    "        found = True\n",
    "        break\n",
    "\n",
    "if not found:\n",
    "    print(\"This colour is not in signal colours\")"
   ]
  },
  {
   "cell_type": "markdown",
   "id": "3a1c8934-55c6-4b56-89cb-fd53e50903f7",
   "metadata": {},
   "source": [
    "# even or odd"
   ]
  },
  {
   "cell_type": "code",
   "execution_count": 28,
   "id": "3705d5e0-f529-4193-b13e-d16523c34f90",
   "metadata": {},
   "outputs": [
    {
     "name": "stdout",
     "output_type": "stream",
     "text": [
      "Even numbers: [2, 4, 6, 8, 10]\n",
      "Odd numbers: [1, 3, 5, 7, 9]\n"
     ]
    }
   ],
   "source": [
    "numbers = [1,2,3,4,5,6,7,8,9,10]\n",
    "\n",
    "even_numbers = []\n",
    "odd_numbers = []\n",
    "\n",
    "for number in numbers:\n",
    "    if number % 2 == 0:\n",
    "        even_numbers.append(number)\n",
    "    else:\n",
    "        odd_numbers.append(number)\n",
    "\n",
    "print(\"Even numbers:\", even_numbers)\n",
    "print(\"Odd numbers:\", odd_numbers)"
   ]
  },
  {
   "cell_type": "markdown",
   "id": "8e69554f-d2da-4556-a9a3-1aef73781f4d",
   "metadata": {},
   "source": [
    "# Vowels and Consonants"
   ]
  },
  {
   "cell_type": "code",
   "execution_count": 34,
   "id": "38c929c6-20ff-4519-ab1f-f52bbb63280e",
   "metadata": {},
   "outputs": [
    {
     "name": "stdin",
     "output_type": "stream",
     "text": [
      "Enter your String:  vinod\n"
     ]
    },
    {
     "name": "stdout",
     "output_type": "stream",
     "text": [
      "Total Number of Vowels in this String =  2\n",
      "Total Number of Consonants in this String =  3\n"
     ]
    }
   ],
   "source": [
    "str1 = input(\"Enter your String: \")\n",
    "\n",
    "vowels = 0\n",
    "consonants = 0\n",
    "\n",
    "for i in str1:\n",
    "    if(i == 'a' or i == 'e' or i == 'i' or i == 'o' or i == 'u'\n",
    "      or i == 'A' or i == 'E' or i == 'I' or i == 'O' or i == 'U'):\n",
    "        vowels = vowels + 1\n",
    "    else:\n",
    "        consonants = consonants + 1\n",
    "\n",
    "print(\"Total Number of Vowels in this String = \", vowels)\n",
    "print(\"Total Number of Consonants in this String = \", consonants)"
   ]
  },
  {
   "cell_type": "code",
   "execution_count": null,
   "id": "68fd2e16-3f56-4e8b-bfb9-144820cbcee6",
   "metadata": {},
   "outputs": [],
   "source": []
  }
 ],
 "metadata": {
  "kernelspec": {
   "display_name": "Python 3 (ipykernel)",
   "language": "python",
   "name": "python3"
  },
  "language_info": {
   "codemirror_mode": {
    "name": "ipython",
    "version": 3
   },
   "file_extension": ".py",
   "mimetype": "text/x-python",
   "name": "python",
   "nbconvert_exporter": "python",
   "pygments_lexer": "ipython3",
   "version": "3.12.4"
  }
 },
 "nbformat": 4,
 "nbformat_minor": 5
}
