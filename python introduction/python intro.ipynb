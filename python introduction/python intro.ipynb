{
 "cells": [
  {
   "cell_type": "code",
   "execution_count": 1,
   "id": "73df6f97-6ab5-45ca-8f2a-3723b5ba5887",
   "metadata": {},
   "outputs": [
    {
     "name": "stdout",
     "output_type": "stream",
     "text": [
      "hello world\n"
     ]
    }
   ],
   "source": [
    "print(\"hello world\")"
   ]
  },
  {
   "cell_type": "code",
   "execution_count": 5,
   "id": "d3f8b8d0-3d1c-4f8e-9102-0cfc8b75f284",
   "metadata": {},
   "outputs": [
    {
     "name": "stdout",
     "output_type": "stream",
     "text": [
      "python version : 3.12.4 | packaged by Anaconda, Inc. | (main, Jun 18 2024, 15:03:56) [MSC v.1929 64 bit (AMD64)]\n"
     ]
    }
   ],
   "source": [
    "import sys\n",
    "print(\"python version :\",sys.version)"
   ]
  },
  {
   "cell_type": "markdown",
   "id": "e5121545-96f6-4074-ba93-ded5e2ff7cd1",
   "metadata": {},
   "source": [
    "# PYTHON INDENTATION"
   ]
  },
  {
   "cell_type": "markdown",
   "id": "c1b66e6c-3c77-48fa-bfa0-d8cea64860d6",
   "metadata": {},
   "source": [
    "- Indentation determines the grouping of statements. For example, in a function, all the code within that function must be indented.\n",
    "- The Python community recommends using 4 spaces per indentation level.\n"
   ]
  },
  {
   "cell_type": "code",
   "execution_count": 35,
   "id": "083f925c-372d-4992-86f8-1e4d4ee0f31f",
   "metadata": {},
   "outputs": [
    {
     "name": "stdout",
     "output_type": "stream",
     "text": [
      "2 is lesser than 4\n"
     ]
    }
   ],
   "source": [
    "#example correct indentation.\n",
    "if  4 > 2:\n",
    "    print(\"2 is lesser than 4\")"
   ]
  },
  {
   "cell_type": "markdown",
   "id": "ab476f3b-11d9-4807-9e2c-c5c312791d6a",
   "metadata": {},
   "source": [
    "#example for incorrect indentation\n",
    "if 4 > 2:\n",
    "print(\"2 is lesser than 4\")"
   ]
  },
  {
   "cell_type": "markdown",
   "id": "126bd4d0-87a1-4a7d-be0d-7dfef2aac7d2",
   "metadata": {},
   "source": [
    "# PYTHON COMMENTS"
   ]
  },
  {
   "cell_type": "markdown",
   "id": "41948f29-fd39-492d-9a24-f2b03429b60f",
   "metadata": {},
   "source": [
    "-  comments are used to explain and annotate code\n",
    "-  They are ignored by the Python interpreter and do not affect the execution of the program\n",
    "-  Comments are useful for documenting code, making it easier to understand, and providing context.\n"
   ]
  },
  {
   "cell_type": "markdown",
   "id": "56095c89-61d5-441c-b884-788ea63963a4",
   "metadata": {},
   "source": [
    "### Types of comments "
   ]
  },
  {
   "cell_type": "markdown",
   "id": "5c5d7393-982c-4f7f-85fd-b87adb11172e",
   "metadata": {},
   "source": [
    "- they are two types\n",
    "  * Single-Line Comments\n",
    "  * Multi-Line Comments"
   ]
  },
  {
   "cell_type": "markdown",
   "id": "68e480ce-2bf1-4056-836f-82474797f06e",
   "metadata": {},
   "source": [
    "####  Single-Line Comments "
   ]
  },
  {
   "cell_type": "markdown",
   "id": "71ed0c8d-0abf-4394-8365-f8e881caf40e",
   "metadata": {},
   "source": [
    "- Single-line comments are used to provide brief explanations or notes within a line of code.\n",
    "- They help clarify what a particular piece of code does or provide context for others (or yourself) reading the code later.\n",
    "  * Syntax: Use the # symbol to start a single-line comment."
   ]
  },
  {
   "cell_type": "code",
   "execution_count": 62,
   "id": "c9002395-bb87-4097-844e-ea1d769584cf",
   "metadata": {},
   "outputs": [
    {
     "name": "stdout",
     "output_type": "stream",
     "text": [
      "hi friends !\n"
     ]
    }
   ],
   "source": [
    "#example for single line comment\n",
    "# This is a comment\n",
    "print(\"hi friends !\")  # This prints a greeting\n"
   ]
  },
  {
   "cell_type": "markdown",
   "id": "491c7518-edb1-4a5c-a0a5-846e2a2d41c0",
   "metadata": {},
   "source": [
    "#### Multi-Line Comments"
   ]
  },
  {
   "cell_type": "markdown",
   "id": "4c171d27-2d17-4ff2-96fc-7f6172796ba6",
   "metadata": {},
   "source": [
    "- Python does not have a dedicated syntax for multi-line comments. Instead, multi-line comments are typically written using triple quotes. Although triple quotes are actually multi-line strings, if they are not assigned to a variable, they function as comments."
   ]
  },
  {
   "cell_type": "code",
   "execution_count": 68,
   "id": "41c77a2d-0254-4ef8-864d-f8b983eda1fd",
   "metadata": {},
   "outputs": [],
   "source": [
    "#example for multiline comment\n",
    "\n",
    "#my name is vinod \n",
    "#i live in hyderabad\n",
    "#learning python"
   ]
  },
  {
   "cell_type": "markdown",
   "id": "ea6f3b88-6bcc-4244-a533-40f29baf395d",
   "metadata": {},
   "source": [
    "# PYTHON KEYWORDS"
   ]
  },
  {
   "cell_type": "markdown",
   "id": "6b31760f-e0a9-4620-8a60-6b569e7c8630",
   "metadata": {},
   "source": [
    "- Python keywords are special reserved words that have specific meanings and purposes and can’t be used for anything but those specific purposes. These keywords are always available you’ll never have to import them into your code.\r\n",
    "- \r\n",
    "Python keywords are different from Python’s built-in functions and types. The built-in functions and types are also always available, but they aren’t as restrictive as the keywords in their usage.-\r\n",
    "\r\n",
    "An example of something you can’t do with Python keywords is assign something to them. If you try, then you’ll get a SyntaxError. You won’t get a SyntaxError if you try to assign something to a built-in function or type, but it still isn’t a good idea. For a more in-depth explanation of ways keywords can be misused, check out Invalid Syntax in Python: Common Reasons for SyntaxError."
   ]
  },
  {
   "cell_type": "markdown",
   "id": "dbf9307b-af09-4d42-9db1-be1376778884",
   "metadata": {},
   "source": [
    "### CHECKING FOR KEYWORDS"
   ]
  },
  {
   "cell_type": "markdown",
   "id": "3ef091e7-acac-4ffa-aa89-bc8da52343f5",
   "metadata": {},
   "source": [
    "- You can use the keyword module to check if a word is a Python keyword and to get a list of all keywords."
   ]
  },
  {
   "cell_type": "code",
   "execution_count": 82,
   "id": "66b75f31-7742-4da1-a853-a34cc5c8a0ba",
   "metadata": {},
   "outputs": [
    {
     "name": "stdout",
     "output_type": "stream",
     "text": [
      "['False', 'None', 'True', 'and', 'as', 'assert', 'async', 'await', 'break', 'class', 'continue', 'def', 'del', 'elif', 'else', 'except', 'finally', 'for', 'from', 'global', 'if', 'import', 'in', 'is', 'lambda', 'nonlocal', 'not', 'or', 'pass', 'raise', 'return', 'try', 'while', 'with', 'yield']\n"
     ]
    },
    {
     "data": {
      "text/plain": [
       "35"
      ]
     },
     "execution_count": 82,
     "metadata": {},
     "output_type": "execute_result"
    }
   ],
   "source": [
    "import keyword \n",
    "python_keywords = keyword.kwlist\n",
    "print(python_keywords)\n",
    "len(python_keywords)"
   ]
  },
  {
   "cell_type": "code",
   "execution_count": null,
   "id": "0cc3f07e-829e-4129-9ab7-9cbf8dd80a2c",
   "metadata": {},
   "outputs": [],
   "source": []
  }
 ],
 "metadata": {
  "kernelspec": {
   "display_name": "Python 3 (ipykernel)",
   "language": "python",
   "name": "python3"
  },
  "language_info": {
   "codemirror_mode": {
    "name": "ipython",
    "version": 3
   },
   "file_extension": ".py",
   "mimetype": "text/x-python",
   "name": "python",
   "nbconvert_exporter": "python",
   "pygments_lexer": "ipython3",
   "version": "3.12.4"
  }
 },
 "nbformat": 4,
 "nbformat_minor": 5
}
