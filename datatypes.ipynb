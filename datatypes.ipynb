{
 "cells": [
  {
   "cell_type": "markdown",
   "id": "dfb022bf-7497-40a4-8205-74bd4e63f6cc",
   "metadata": {},
   "source": [
    "# Python Data Types\n",
    "- Data types in Python define the kind of value a variable can hold and the operations that can be performed on it.\n",
    "- Variables can store data of different types, and different types can do different things.\n",
    "- Pyhton has various Built-in data types.\n",
    "### Data Type Examples\n",
    "- Text Type      ==> str\n",
    "- Numeric Types  ==> int, float, complex\n",
    "- Sequence Types ==> list, tuple, range\n",
    "- Mapping Type   ==> dict\n",
    "- Set Types      ==> set, frozenset\n",
    "- Boolen type    ==> bool"
   ]
  },
  {
   "cell_type": "markdown",
   "id": "3da39f7a-ab83-43fb-992e-cc2675f4e31b",
   "metadata": {},
   "source": [
    "# Numeric Types in Python\n",
    "#### The numeric data type in Python represents the data that has a numeric value. A numeric value can be an integer, a floating number, or even a complex number. These values are defined as Python int, Python float, and Python complex classes in Python\n",
    "\n",
    "- Integers – This value is represented by int class. It contains positive or negative whole numbers (without fractions or decimals). In Python, there is no limit to how long an integer value can be.\n",
    "* Float – This value is represented by the float class. It is a real number with a floating-point representation. It is specified by a decimal point. Optionally, the character e or E followed by a positive or negative integer may be appended to specify scientific notation.\n",
    "* Complex Numbers – A complex number is represented by a complex class. It is specified as (real part) + (imaginary part)j. For example – 2+3j\n",
    "Note – type() function is used to determine the type of Python data type. "
   ]
  },
  {
   "cell_type": "markdown",
   "id": "3601b9d2-eb42-4ff1-84ab-3884d390aaec",
   "metadata": {},
   "source": [
    "# Type( ) function"
   ]
  },
  {
   "cell_type": "markdown",
   "id": "2aa24a0c-28aa-4dfc-bf74-f0a080eea223",
   "metadata": {},
   "source": [
    "  - type() function is used to return the class type of parameter."
   ]
  },
  {
   "cell_type": "code",
   "execution_count": 16,
   "id": "50dd53ad-4600-469e-a739-0afa34d5a98e",
   "metadata": {},
   "outputs": [
    {
     "name": "stdout",
     "output_type": "stream",
     "text": [
      "<class 'int'>\n",
      "<class 'float'>\n",
      "<class 'complex'>\n"
     ]
    }
   ],
   "source": [
    "x = 10\n",
    "y = 2.9099\n",
    "z = 2j\n",
    "print(type(x))\n",
    "print(type(y))\n",
    "print(type(z))"
   ]
  },
  {
   "cell_type": "markdown",
   "id": "9965b842-7fb3-4733-ac2e-fef8d5d7df62",
   "metadata": {},
   "source": [
    "#### int"
   ]
  },
  {
   "cell_type": "code",
   "execution_count": 29,
   "id": "30dd9d75-714e-45f9-934d-ce586b8a70ea",
   "metadata": {},
   "outputs": [
    {
     "name": "stdout",
     "output_type": "stream",
     "text": [
      "<class 'int'>\n",
      "<class 'int'>\n",
      "<class 'int'>\n",
      "<class 'int'>\n",
      "<class 'int'>\n"
     ]
    }
   ],
   "source": [
    "#EXAMPLES FOR INT\n",
    "x = 11+12\n",
    "y = 12-11\n",
    "z = 1*3\n",
    "a = 100*2-1\n",
    "b = 200+100-100\n",
    "print(type(x))\n",
    "print(type(y))\n",
    "print(type(z))\n",
    "print(type(a))\n",
    "print(type(b))"
   ]
  },
  {
   "cell_type": "markdown",
   "id": "aadfa4c3-bce3-42be-929b-b05b3d074ed4",
   "metadata": {},
   "source": [
    "#### float"
   ]
  },
  {
   "cell_type": "code",
   "execution_count": 33,
   "id": "5ea69a6b-973b-4255-ba1a-b3b1bc242439",
   "metadata": {},
   "outputs": [
    {
     "name": "stdout",
     "output_type": "stream",
     "text": [
      "<class 'float'>\n",
      "<class 'float'>\n",
      "<class 'float'>\n",
      "<class 'float'>\n",
      "<class 'float'>\n"
     ]
    }
   ],
   "source": [
    "#EXAMPLES FOR FLOAT\n",
    "x = 122.22+12.2222\n",
    "y = 2-11.2\n",
    "z = 1*3.66\n",
    "a = 100/100\n",
    "b = 200+100-100.22\n",
    "print(type(x))\n",
    "print(type(y))\n",
    "print(type(z))\n",
    "print(type(a))\n",
    "print(type(b))"
   ]
  },
  {
   "cell_type": "markdown",
   "id": "c2312210-73f6-44e1-92df-fa38afdb0f54",
   "metadata": {},
   "source": [
    "#### complex"
   ]
  },
  {
   "cell_type": "code",
   "execution_count": 35,
   "id": "941dcb16-6dc2-412d-9780-f6894b685a01",
   "metadata": {},
   "outputs": [
    {
     "name": "stdout",
     "output_type": "stream",
     "text": [
      "<class 'complex'>\n",
      "<class 'complex'>\n",
      "<class 'complex'>\n",
      "<class 'complex'>\n",
      "<class 'complex'>\n"
     ]
    }
   ],
   "source": [
    "#EXAMPLES FOR COMPLEX\n",
    "X = 2+3J\n",
    "Y = 0+0J\n",
    "Z = 0.55+2.22J\n",
    "A = 88-12J\n",
    "B = 2.22+12J\n",
    "print(type(X))\n",
    "print(type(Y))\n",
    "print(type(Z))\n",
    "print(type(A))\n",
    "print(type(B))"
   ]
  },
  {
   "cell_type": "markdown",
   "id": "ae8e969d-a6e5-44c5-a8aa-a0b98e663eaf",
   "metadata": {},
   "source": [
    "# Type Conversion in Python\n",
    "- We can convert from one type to another with the int() , float() and complex() method.\n",
    "- note :- you cannot convert complex number into another number type"
   ]
  },
  {
   "cell_type": "code",
   "execution_count": 56,
   "id": "fb682ae5-9528-4317-9fe6-c25b16c02d42",
   "metadata": {},
   "outputs": [
    {
     "name": "stdout",
     "output_type": "stream",
     "text": [
      "23.0\n",
      "1.0\n",
      "3.0\n",
      "199.0\n",
      "200.0\n",
      "987654321.0\n",
      "-70.0\n",
      "12345.0\n",
      "10000.0\n",
      "-1300.0\n"
     ]
    }
   ],
   "source": [
    "#converting int to float\n",
    "x = 11+12\n",
    "y = 12-11\n",
    "z = 1*3\n",
    "a = 100*2-1\n",
    "b = 200+100-100\n",
    "c = 987654321\n",
    "d = 10+10-10*10+10\n",
    "e = 12345\n",
    "f = 100*100\n",
    "g = -100-1200\n",
    "# using float()\n",
    "A = float(x) \n",
    "B = float(y)\n",
    "C = float(z)\n",
    "D = float(a)\n",
    "E = float(b)\n",
    "F = float(c)\n",
    "G = float(d)\n",
    "H = float(e)\n",
    "I = float(f)\n",
    "J = float(g)\n",
    "\n",
    "print(A)\n",
    "print(B)\n",
    "print(C)\n",
    "print(D)\n",
    "print(E)\n",
    "print(F)\n",
    "print(G)\n",
    "print(H)\n",
    "print(I)\n",
    "print(J)\n",
    "\n"
   ]
  },
  {
   "cell_type": "code",
   "execution_count": 58,
   "id": "1f347168-00b5-4e2a-af41-0880a2b766dc",
   "metadata": {},
   "outputs": [
    {
     "name": "stdout",
     "output_type": "stream",
     "text": [
      "23\n",
      "1\n",
      "3\n",
      "199\n",
      "200\n",
      "987654321\n",
      "-1300\n",
      "-70\n",
      "12345\n",
      "10000\n"
     ]
    }
   ],
   "source": [
    "#converting float to int\n",
    "a = 23.0\n",
    "b = 1.0\n",
    "c = 3.0\n",
    "d = 199.0\n",
    "e = 200.0\n",
    "f = 987654321.0\n",
    "h = -70.0\n",
    "i = 12345.0\n",
    "j = 10000.0\n",
    "k = -1300.0\n",
    "\n",
    "A = int(a)\n",
    "B = int(b)\n",
    "C = int(c)\n",
    "D = int(d)\n",
    "E = int(e)\n",
    "F = int(f)\n",
    "G = int(g)\n",
    "H = int(h)\n",
    "I = int(i)\n",
    "J = int(j)\n",
    "K = int(k)\n",
    "\n",
    "print(A)\n",
    "print(B)\n",
    "print(C)\n",
    "print(D)\n",
    "print(E)\n",
    "print(F)\n",
    "print(G)\n",
    "print(H)\n",
    "print(I)\n",
    "print(J)\n",
    "\n"
   ]
  },
  {
   "cell_type": "code",
   "execution_count": 60,
   "id": "86db4d73-ae51-49ac-99b2-5e1159d374b6",
   "metadata": {},
   "outputs": [
    {
     "ename": "TypeError",
     "evalue": "int() argument must be a string, a bytes-like object or a real number, not 'complex'",
     "output_type": "error",
     "traceback": [
      "\u001b[1;31m---------------------------------------------------------------------------\u001b[0m",
      "\u001b[1;31mTypeError\u001b[0m                                 Traceback (most recent call last)",
      "Cell \u001b[1;32mIn[60], line 4\u001b[0m\n\u001b[0;32m      2\u001b[0m X \u001b[38;5;241m=\u001b[39m \u001b[38;5;241m2\u001b[39m\u001b[38;5;241m+\u001b[39m\u001b[38;5;241m3\u001b[39mJ\n\u001b[0;32m      3\u001b[0m Y \u001b[38;5;241m=\u001b[39m \u001b[38;5;241m0\u001b[39m\u001b[38;5;241m+\u001b[39m\u001b[38;5;241m0\u001b[39mJ\n\u001b[1;32m----> 4\u001b[0m A \u001b[38;5;241m=\u001b[39m \u001b[38;5;28mint\u001b[39m(X)\n\u001b[0;32m      5\u001b[0m \u001b[38;5;28mprint\u001b[39m(A)\n",
      "\u001b[1;31mTypeError\u001b[0m: int() argument must be a string, a bytes-like object or a real number, not 'complex'"
     ]
    }
   ],
   "source": [
    "#CONVERTING  COMPLEX TO INT/FLOAT\n",
    "X = 2+3J\n",
    "Y = 0+0J\n",
    "A = int(X)\n",
    "print(A)\n"
   ]
  },
  {
   "cell_type": "code",
   "execution_count": 62,
   "id": "92e0ff3b-e64e-434c-90b4-121f4c030f9d",
   "metadata": {},
   "outputs": [
    {
     "ename": "TypeError",
     "evalue": "float() argument must be a string or a real number, not 'complex'",
     "output_type": "error",
     "traceback": [
      "\u001b[1;31m---------------------------------------------------------------------------\u001b[0m",
      "\u001b[1;31mTypeError\u001b[0m                                 Traceback (most recent call last)",
      "Cell \u001b[1;32mIn[62], line 1\u001b[0m\n\u001b[1;32m----> 1\u001b[0m B \u001b[38;5;241m=\u001b[39m \u001b[38;5;28mfloat\u001b[39m(Y)\n\u001b[0;32m      2\u001b[0m \u001b[38;5;28mprint\u001b[39m(B)\n",
      "\u001b[1;31mTypeError\u001b[0m: float() argument must be a string or a real number, not 'complex'"
     ]
    }
   ],
   "source": [
    "B = float(Y)\n",
    "print(B)"
   ]
  },
  {
   "cell_type": "markdown",
   "id": "4d5c1e17-6235-4c14-b63d-99eaf8ec5622",
   "metadata": {},
   "source": [
    "# Python Boolean's\n",
    "- Booleans in Python are a data type that represents one of two values : True or False.\n",
    "- They are fundamental for decision-making and controlling the flow of your program.\n",
    "- any string return true,except empty string(\"\").\n",
    "- any number returns true,except 0\n",
    "- any list,tuple,set return true,except empty set ones [](){}."
   ]
  },
  {
   "cell_type": "code",
   "execution_count": 19,
   "id": "06ab5e3b-6955-42ef-832b-cd90de83ce8a",
   "metadata": {},
   "outputs": [
    {
     "name": "stdout",
     "output_type": "stream",
     "text": [
      "True\n",
      "False\n",
      "False\n"
     ]
    }
   ],
   "source": [
    "#example\n",
    "print(15 > 9)\n",
    "print(13 == 9)\n",
    "print(1>1)"
   ]
  },
  {
   "cell_type": "code",
   "execution_count": 21,
   "id": "b119fd52-ad78-421f-91c8-b3ae018edd82",
   "metadata": {},
   "outputs": [
    {
     "name": "stdout",
     "output_type": "stream",
     "text": [
      "False\n"
     ]
    }
   ],
   "source": [
    "#10 examples\n",
    "bool( )\n",
    "print(bool())"
   ]
  },
  {
   "cell_type": "code",
   "execution_count": 25,
   "id": "2e311e2f-4617-4152-8bd4-f8fe2322e2af",
   "metadata": {},
   "outputs": [
    {
     "name": "stdout",
     "output_type": "stream",
     "text": [
      "False\n"
     ]
    }
   ],
   "source": [
    "bool(\"\")\n",
    "print(bool(\"\"))"
   ]
  },
  {
   "cell_type": "code",
   "execution_count": 27,
   "id": "165c5ba6-7125-4365-9205-37c3886466cc",
   "metadata": {},
   "outputs": [
    {
     "name": "stdout",
     "output_type": "stream",
     "text": [
      "True\n"
     ]
    }
   ],
   "source": [
    "bool(\"vinod\")\n",
    "print(bool(\"vinod\")"
   ]
  },
  {
   "cell_type": "code",
   "execution_count": 29,
   "id": "f3162ecb-8043-4a29-a491-8962173a02a2",
   "metadata": {},
   "outputs": [
    {
     "name": "stdout",
     "output_type": "stream",
     "text": [
      "False\n"
     ]
    }
   ],
   "source": [
    "bool(0)\n",
    "print(bool(0))"
   ]
  },
  {
   "cell_type": "code",
   "execution_count": 31,
   "id": "9bd7f09b-3e9a-4053-98b4-634ddb27e6c3",
   "metadata": {},
   "outputs": [
    {
     "name": "stdout",
     "output_type": "stream",
     "text": [
      "True\n"
     ]
    }
   ],
   "source": [
    "bool(99)\n",
    "print(bool(99))"
   ]
  },
  {
   "cell_type": "code",
   "execution_count": 33,
   "id": "a3e07a4e-2789-4e7d-89dc-4b4e6b1443a1",
   "metadata": {},
   "outputs": [
    {
     "name": "stdout",
     "output_type": "stream",
     "text": [
      "False\n"
     ]
    }
   ],
   "source": [
    "bool([])\n",
    "print(bool([]))"
   ]
  },
  {
   "cell_type": "code",
   "execution_count": 35,
   "id": "9b562280-692d-45cc-8e3c-fe3a6ba30c76",
   "metadata": {},
   "outputs": [
    {
     "name": "stdout",
     "output_type": "stream",
     "text": [
      "False\n"
     ]
    }
   ],
   "source": [
    "bool({})\n",
    "print(bool({}))"
   ]
  },
  {
   "cell_type": "code",
   "execution_count": 37,
   "id": "83c31397-9484-4846-a0b7-e35974491581",
   "metadata": {},
   "outputs": [
    {
     "name": "stdout",
     "output_type": "stream",
     "text": [
      "True\n"
     ]
    }
   ],
   "source": [
    "bool([1,2,3,4,5,6,])\n",
    "print(bool([1,2,3,4,5,6,]))"
   ]
  },
  {
   "cell_type": "code",
   "execution_count": 39,
   "id": "517a4db8-470e-447b-9ee4-27a7d0945eb0",
   "metadata": {},
   "outputs": [
    {
     "name": "stdout",
     "output_type": "stream",
     "text": [
      "True\n"
     ]
    }
   ],
   "source": [
    "bool({99,22,44,55})\n",
    "print(bool({99,22,44,55}))\n"
   ]
  },
  {
   "cell_type": "code",
   "execution_count": 41,
   "id": "74d2bb48-0409-42c8-8e10-0cd0f8ed6f6d",
   "metadata": {},
   "outputs": [
    {
     "name": "stdout",
     "output_type": "stream",
     "text": [
      "True\n"
     ]
    }
   ],
   "source": [
    "bool(19*19)\n",
    "print(bool(19*19))"
   ]
  },
  {
   "cell_type": "code",
   "execution_count": 43,
   "id": "4b5de206-94da-4a9c-b728-0582a818c4f8",
   "metadata": {},
   "outputs": [
    {
     "name": "stdout",
     "output_type": "stream",
     "text": [
      "True\n"
     ]
    }
   ],
   "source": [
    "bool(1)\n",
    "print(bool(1))"
   ]
  },
  {
   "cell_type": "code",
   "execution_count": 45,
   "id": "ab8c2649-9c9e-4df4-a319-a01c76fb2f89",
   "metadata": {},
   "outputs": [
    {
     "name": "stdout",
     "output_type": "stream",
     "text": [
      "True\n"
     ]
    }
   ],
   "source": [
    "print(20*20 == 10*40)"
   ]
  }
 ],
 "metadata": {
  "kernelspec": {
   "display_name": "Python 3 (ipykernel)",
   "language": "python",
   "name": "python3"
  },
  "language_info": {
   "codemirror_mode": {
    "name": "ipython",
    "version": 3
   },
   "file_extension": ".py",
   "mimetype": "text/x-python",
   "name": "python",
   "nbconvert_exporter": "python",
   "pygments_lexer": "ipython3",
   "version": "3.12.4"
  }
 },
 "nbformat": 4,
 "nbformat_minor": 5
}
