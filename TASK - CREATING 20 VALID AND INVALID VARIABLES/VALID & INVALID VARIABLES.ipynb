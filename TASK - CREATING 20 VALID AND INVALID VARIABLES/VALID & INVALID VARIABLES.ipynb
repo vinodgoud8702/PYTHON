{
 "cells": [
  {
   "cell_type": "markdown",
   "id": "618ced50-bb81-467b-ab02-80c26f34bcc6",
   "metadata": {},
   "source": [
    "# VALID VARIABLES"
   ]
  },
  {
   "cell_type": "code",
   "execution_count": 22,
   "id": "88865201-fa13-4762-9e6d-16be0b755ad4",
   "metadata": {},
   "outputs": [
    {
     "name": "stdout",
     "output_type": "stream",
     "text": [
      "Vinodgoud\n",
      "20\n",
      "83.5\n",
      "hyderabad\n",
      " Government degree college \n",
      "True\n",
      "['orange', 'cherry', 'mango', ' banana']\n",
      "None\n",
      "19\n",
      "{'pythion', 'sql', 'power BI', 'Advance excel', 'statistics'}\n",
      "[' vinod ', 'kumar', 'radha', 'raji']\n",
      "{'python', 'AWS', 'data science ', 'java', 'DEVOOPS', 'digital marketing', 'AI'}\n",
      "{2, 3, 7, 8, 12, 31}\n",
      "Khairatabad\n",
      "['vinod', ' 20', '5.5', 'hyderabad']\n",
      "80\n",
      "90\n",
      "9876543210\n",
      "teksacademy\n",
      "hero\n"
     ]
    }
   ],
   "source": [
    "name = \"Vinodgoud\"  \n",
    "age = 20  \n",
    "marks = 83.5\n",
    "city = \"hyderabad\"\n",
    "college = \" Government degree college \"\n",
    "is_student = True\n",
    "fruits = [ \"orange\", \"cherry\",\"mango\", \" banana\" ]\n",
    "result = None\n",
    "total = 5 + 7 * 2\n",
    "data_analyst = { \"sql\" , \"power BI\", \"Advance excel\", \"statistics\", \"pythion\" }\n",
    "family = [ \" vinod \", \"kumar\", \"radha\", \"raji\" ]\n",
    "list_courses = { \"data science \" , \"java\" , \"python\",\"digital marketing\", \"AWS\",\"AI\",\"DEVOOPS\" }\n",
    "set_favnumbers = { 8,7,2,3,31,12,2 }\n",
    "collegeaddress = \"Khairatabad\"\n",
    "personal_info = [ \"vinod\", \" 20\" , \"5.5\",\"hyderabad\" ]\n",
    "marks100 = 80\n",
    "percentage =  90\n",
    "_mobile_number = 9876543210\n",
    "my_academy= \"teksacademy\"\n",
    "_My_BIKE_2 = \"hero\"\n",
    "\n",
    "print(name)\n",
    "print(age)\n",
    "print(marks)\n",
    "print(city)\n",
    "print(college)\n",
    "print(is_student)\n",
    "print(fruits)\n",
    "print(result)\n",
    "print(total)\n",
    "print(data_analyst)\n",
    "print(family)\n",
    "print(list_courses)\n",
    "print(set_favnumbers)\n",
    "print(collegeaddress)\n",
    "print(personal_info)\n",
    "print(marks100)\n",
    "print(percentage)\n",
    "print(_mobile_number)\n",
    "print(my_academy)\n",
    "print(_My_BIKE_2)"
   ]
  },
  {
   "cell_type": "markdown",
   "id": "0ed39302-40e0-440a-bad2-15efe3e45dbc",
   "metadata": {},
   "source": [
    "# INVALID VARIABLES"
   ]
  },
  {
   "cell_type": "code",
   "execution_count": 29,
   "id": "3e1e92ea-fc19-43c8-b68a-cfae8d6b37bf",
   "metadata": {},
   "outputs": [
    {
     "ename": "SyntaxError",
     "evalue": "invalid decimal literal (2007675286.py, line 1)",
     "output_type": "error",
     "traceback": [
      "\u001b[1;36m  Cell \u001b[1;32mIn[29], line 1\u001b[1;36m\u001b[0m\n\u001b[1;33m    1name = \"Vinodgoud\"\u001b[0m\n\u001b[1;37m    ^\u001b[0m\n\u001b[1;31mSyntaxError\u001b[0m\u001b[1;31m:\u001b[0m invalid decimal literal\n"
     ]
    }
   ],
   "source": [
    "1name = \"Vinodgoud\"  \n",
    "=age = 20  \n",
    "100marks = 83.5\n",
    "@city = \"hyderabad\"\n",
    "--college = \" Government degree college \"\n",
    "$is_student = True\n",
    "5 fruits = [ \"orange\", \"cherry\",\"mango\", \" banana\" ]\n",
    "%result = None\n",
    "+total = 5 + 7 * 2\n",
    "*data_analyst = { \"sql\" , \"power BI\", \"Advance excel\", \"statistics\", \"pythion\" }\n",
    "$family = [ \" vinod \", \"kumar\", \"radha\", \"raji\" ]\n",
    "class = { \"data science \" , \"java\" , \"python\",\"digital marketing\", \"AWS\",\"AI\",\"DEVOOPS\" }\n",
    "7 set_favnumbers = { 8,7,2,3,31,12,2 }\n",
    ">collegeaddress = \"Khairatabad\"\n",
    "/printpersonal_info = [ \"vinod\", \" 20\" , \"5.5\",\"hyderabad\" ]\n",
    "1marks100 = 80\n",
    "%percentage =  90\n",
    "1323_mobile_number = 9876543210\n",
    "'my_academy= \"teksacademy\"\n",
    "1_My_BIKE_2 = \"hero\"\n",
    "\n",
    "print(name)\n",
    "print(age)\n",
    "print(marks)\n",
    "print(city)\n",
    "print(college)\n",
    "print(is_student)\n",
    "print(fruits)\n",
    "print(result)\n",
    "print(total)\n",
    "print(data_analyst)\n",
    "print(family)\n",
    "print(list_courses)\n",
    "print(set_favnumbers)\n",
    "print(collegeaddress)\n",
    "print(personal_info)\n",
    "print(marks100)\n",
    "print(percentage)\n",
    "print(_mobile_number)\n",
    "print(my_academy)\n",
    "print(_My_BIKE_2)"
   ]
  },
  {
   "cell_type": "code",
   "execution_count": null,
   "id": "9fede726-5309-468b-9a70-d0f52542055e",
   "metadata": {},
   "outputs": [],
   "source": []
  }
 ],
 "metadata": {
  "kernelspec": {
   "display_name": "Python 3 (ipykernel)",
   "language": "python",
   "name": "python3"
  },
  "language_info": {
   "codemirror_mode": {
    "name": "ipython",
    "version": 3
   },
   "file_extension": ".py",
   "mimetype": "text/x-python",
   "name": "python",
   "nbconvert_exporter": "python",
   "pygments_lexer": "ipython3",
   "version": "3.12.4"
  }
 },
 "nbformat": 4,
 "nbformat_minor": 5
}
