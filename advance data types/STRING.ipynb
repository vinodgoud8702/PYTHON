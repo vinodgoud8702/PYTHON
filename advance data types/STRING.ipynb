{
 "cells": [
  {
   "cell_type": "markdown",
   "id": "196889ae-3a82-4f8b-8e1c-6092fcabe9e8",
   "metadata": {},
   "source": [
    "# PYTHON STRING"
   ]
  },
  {
   "cell_type": "markdown",
   "id": "4085aa37-774d-4eed-abee-d888190449c7",
   "metadata": {},
   "source": [
    "- There are various ways to define strings in Python - namely single quotes ('), double quotes (\"), and triple quotes (''' or \"\"\").\n",
    "- Strings in Python are immutable, which means once a string is created it retains its original content and cannot be changed.\n",
    "- It is essentially a series of letters, numbers, symbols, or spaces enclosed in quotes.\n",
    "- Strings are one of the most commonly used data types, and they are used to represent text.\n",
    "- However, you can perform various operations and use methods to manipulate and word with strings."
   ]
  },
  {
   "cell_type": "code",
   "execution_count": 4,
   "id": "e5840ca0-3fb6-43a3-a4b0-b1715cbd63cd",
   "metadata": {},
   "outputs": [
    {
     "name": "stdout",
     "output_type": "stream",
     "text": [
      "This is a multi-line\n",
      "string in Python.\n",
      "<class 'str'>\n",
      "<class 'str'>\n",
      "<class 'str'>\n"
     ]
    }
   ],
   "source": [
    "#EXAMPLE\n",
    "str1 = \"Hello, World!\"\n",
    "str2 = 'Python Programming'\n",
    "str3 = \"\"\"This is a multi-line\n",
    "string in Python.\"\"\"\n",
    "print(str3)\n",
    "print(type(str1))\n",
    "print(type(str2))\n",
    "print(type(str3))"
   ]
  },
  {
   "cell_type": "markdown",
   "id": "0c240991-3e97-49d2-a406-a9cce0e3bc91",
   "metadata": {},
   "source": [
    "# STRING OPERATIONS "
   ]
  },
  {
   "cell_type": "markdown",
   "id": "7f292edb-ea70-415b-9d08-796a720403dc",
   "metadata": {},
   "source": [
    "Python allows various operations on strings that make it easy to manipulate and work with textual data. Here are some common string operations:"
   ]
  },
  {
   "cell_type": "markdown",
   "id": "a600ccc9-1f41-4847-8b7e-cc5935f54623",
   "metadata": {},
   "source": [
    "###  1 .  CONCATENATION"
   ]
  },
  {
   "cell_type": "markdown",
   "id": "a3dad8b7-b343-4e3a-9ae2-de5e43222054",
   "metadata": {},
   "source": [
    "Comnbining two or more strings"
   ]
  },
  {
   "cell_type": "code",
   "execution_count": 13,
   "id": "83bad0c3-b8a4-40d7-8fac-3245b13ed179",
   "metadata": {},
   "outputs": [
    {
     "name": "stdout",
     "output_type": "stream",
     "text": [
      "Hello World!\n"
     ]
    }
   ],
   "source": [
    "#EXAMPLE\n",
    "str1 = \"Hello\"\n",
    "str2 = \"World!\"\n",
    "result = str1 + \" \" + str2\n",
    "print(result)"
   ]
  },
  {
   "cell_type": "markdown",
   "id": "0fb77bf3-1c03-4d05-9f9e-c45640d7c9f9",
   "metadata": {},
   "source": [
    "### 2 . REPETITION"
   ]
  },
  {
   "cell_type": "markdown",
   "id": "2033a8fc-e462-4a9e-a06f-8073cb644d63",
   "metadata": {},
   "source": [
    "Repeating a string multiple times."
   ]
  },
  {
   "cell_type": "code",
   "execution_count": 17,
   "id": "e4952fc3-b75f-4d9b-992a-e6ed98c93d02",
   "metadata": {},
   "outputs": [
    {
     "name": "stdout",
     "output_type": "stream",
     "text": [
      "python python python python python python python python python python python python \n"
     ]
    }
   ],
   "source": [
    "text = \"python \"\n",
    "result = text * 12\n",
    "print(result)"
   ]
  },
  {
   "cell_type": "markdown",
   "id": "0b0be03a-a5fe-4039-b7a0-37a17ffa8673",
   "metadata": {},
   "source": [
    "### 3 . INDEXING"
   ]
  },
  {
   "cell_type": "code",
   "execution_count": 24,
   "id": "fdf36d68-ff47-44b1-9bc6-3427125ac01a",
   "metadata": {},
   "outputs": [
    {
     "name": "stdout",
     "output_type": "stream",
     "text": [
      "p\n",
      "y\n",
      "d\n",
      "u\n"
     ]
    }
   ],
   "source": [
    "my_string = \"python is fun and enjoy.\"\n",
    "print(my_string[0])\n",
    "print(my_string[-2])\n",
    "print(my_string[-8])\n",
    "print(my_string[11])"
   ]
  },
  {
   "cell_type": "markdown",
   "id": "fe339df6-7ce6-40dc-bc16-a6d32dc3817e",
   "metadata": {},
   "source": [
    "### 4 . SLICING"
   ]
  },
  {
   "cell_type": "markdown",
   "id": "3fa2628e-6ce1-4a6c-98fc-7d5c27e9dfa0",
   "metadata": {},
   "source": [
    "Extracting a substring from a string"
   ]
  },
  {
   "cell_type": "code",
   "execution_count": 28,
   "id": "889d86a8-5ee5-46c0-a27e-057d8557bf33",
   "metadata": {},
   "outputs": [
    {
     "name": "stdout",
     "output_type": "stream",
     "text": [
      "ll\n",
      "hel\n"
     ]
    }
   ],
   "source": [
    "str1=\"hello , world!\"\n",
    "print(str1[2:4])\n",
    "print(str1[0:3])"
   ]
  },
  {
   "cell_type": "markdown",
   "id": "6066e4d4-4bdd-4bf8-ae22-78563b15207e",
   "metadata": {},
   "source": [
    "# PYHON - FORMAT - STRING "
   ]
  },
  {
   "cell_type": "markdown",
   "id": "e972d57a-771a-4a99-8f82-b8421f460f05",
   "metadata": {},
   "source": [
    "### 1. Old Style Formatting "
   ]
  },
  {
   "cell_type": "markdown",
   "id": "ba78a7ef-5e3b-4098-b496-550327e5e20e",
   "metadata": {},
   "source": [
    "Uses % operator and palceholder."
   ]
  },
  {
   "cell_type": "code",
   "execution_count": 33,
   "id": "67bf43c6-3a47-47fb-93c3-a9367868dfee",
   "metadata": {},
   "outputs": [
    {
     "name": "stdout",
     "output_type": "stream",
     "text": [
      " My name is VINOD GOUD and I am 21 years old. \n"
     ]
    }
   ],
   "source": [
    "# EXAMPLES\n",
    "name = \"VINOD GOUD\"\n",
    "age = 21\n",
    "BIO = \" My name is %s and I am %d years old. \" %(name,age)\n",
    "print(BIO)"
   ]
  },
  {
   "cell_type": "markdown",
   "id": "d49e632f-1f2c-4ef4-8658-60e6621c1379",
   "metadata": {},
   "source": [
    "### 2. FORMAT METHOD"
   ]
  },
  {
   "cell_type": "markdown",
   "id": "2751bd61-f3a1-44a4-84a5-caadfc58b1a5",
   "metadata": {},
   "source": [
    "Uses the format{} method with placeholder"
   ]
  },
  {
   "cell_type": "code",
   "execution_count": 41,
   "id": "3ab6f022-ad3e-4fc9-b1ec-f618eafb219a",
   "metadata": {},
   "outputs": [
    {
     "name": "stdout",
     "output_type": "stream",
     "text": [
      "My name is vinodgoud and I am 21 years old.\n"
     ]
    }
   ],
   "source": [
    "name = \"vinodgoud\"\n",
    "age = 21\n",
    "formatted_string = \"My name is {} and I am {} years old.\".format(name,age)\n",
    "print(formatted_string) "
   ]
  },
  {
   "cell_type": "markdown",
   "id": "0461a815-1cba-4452-a95b-2eb05277efb5",
   "metadata": {},
   "source": [
    "### 3.  STRING INTERPOLATION (F- STRING)"
   ]
  },
  {
   "cell_type": "markdown",
   "id": "60dda4e3-3f40-4fc3-bc17-8f610db31f5e",
   "metadata": {},
   "source": [
    "Use f-strings,where expressions inside curly braces {} are evaluated and replaced."
   ]
  },
  {
   "cell_type": "code",
   "execution_count": 52,
   "id": "80d1fd1c-75d3-4c0d-91a9-4a88adaae274",
   "metadata": {},
   "outputs": [
    {
     "name": "stdout",
     "output_type": "stream",
     "text": [
      "My name is vinodgoud and I am 21 years old.\n"
     ]
    }
   ],
   "source": [
    "name = \"vinodgoud\"\n",
    "age = 21\n",
    "print(f\"My name is {name} and I am {age} years old.\")  "
   ]
  },
  {
   "cell_type": "markdown",
   "id": "ff876f33-4777-40ae-af66-c5da8dbe5bfa",
   "metadata": {},
   "source": [
    "# STRING METHODS"
   ]
  },
  {
   "cell_type": "markdown",
   "id": "c3e5c968-0af0-4f51-ae50-3abc39cbd212",
   "metadata": {},
   "source": [
    "- Python has a set of built - in methods that we can use on strings.\n",
    "All string methods return new values they do not change the original string."
   ]
  },
  {
   "cell_type": "markdown",
   "id": "f971943c-706e-4705-a0b9-8200eecea733",
   "metadata": {},
   "source": [
    "### 1.  len():\n",
    "Returns the length of the string\n"
   ]
  },
  {
   "cell_type": "code",
   "execution_count": 63,
   "id": "fa7ca18e-da72-452b-92a4-72561143eaf4",
   "metadata": {},
   "outputs": [
    {
     "name": "stdout",
     "output_type": "stream",
     "text": [
      "13\n"
     ]
    }
   ],
   "source": [
    "# Example program\n",
    "string = \"Python is fun\"\n",
    "length = len(string)\n",
    "print(length)"
   ]
  },
  {
   "cell_type": "markdown",
   "id": "d492867a-0b60-4bb5-9d02-171ce3655c6d",
   "metadata": {},
   "source": [
    "### 2.lower():\n",
    "Converts the string to lower case\n"
   ]
  },
  {
   "cell_type": "code",
   "execution_count": 73,
   "id": "8ffbd0a1-a33b-433e-8d6e-4d977a641995",
   "metadata": {},
   "outputs": [
    {
     "name": "stdout",
     "output_type": "stream",
     "text": [
      "vinodgoud\n"
     ]
    }
   ],
   "source": [
    "#example\n",
    "string = \"VINODGOUD\"\n",
    "print(string.lower())"
   ]
  },
  {
   "cell_type": "markdown",
   "id": "75855c19-7e3c-4b15-be9b-723111ddc115",
   "metadata": {},
   "source": [
    "### 3.upper():\n",
    "Converts the string to upper case\n"
   ]
  },
  {
   "cell_type": "code",
   "execution_count": 77,
   "id": "c68e1cdd-7a3b-4f50-a84b-b5e4a9bbed77",
   "metadata": {},
   "outputs": [
    {
     "name": "stdout",
     "output_type": "stream",
     "text": [
      "VINODGOUD\n"
     ]
    }
   ],
   "source": [
    "#example\n",
    "string = \"vinodgoud\"\n",
    "print(string.upper())"
   ]
  },
  {
   "cell_type": "markdown",
   "id": "fe4d6dfb-2956-4f0c-b173-0abdf125de0b",
   "metadata": {},
   "source": [
    "### 4.strip():\n",
    "Remove leading and trailing whitespaces\n"
   ]
  },
  {
   "cell_type": "code",
   "execution_count": 80,
   "id": "c7e78ce8-306b-4463-826b-90359fa3fb5f",
   "metadata": {},
   "outputs": [
    {
     "name": "stdout",
     "output_type": "stream",
     "text": [
      "python\n"
     ]
    }
   ],
   "source": [
    "#example\n",
    "string = \"  python  \"\n",
    "print(string.strip())"
   ]
  },
  {
   "cell_type": "markdown",
   "id": "c71fa997-c1ff-4f04-83c9-873812ec4a56",
   "metadata": {},
   "source": [
    "### 5.replace():\n",
    "Replaces a substring with another substring.\n"
   ]
  },
  {
   "cell_type": "code",
   "execution_count": 88,
   "id": "f41b4b16-5403-40b6-9377-a5138fb31595",
   "metadata": {},
   "outputs": [
    {
     "name": "stdout",
     "output_type": "stream",
     "text": [
      "Hello python!\n"
     ]
    }
   ],
   "source": [
    "#example\n",
    "str1 = \"Hello world!\"\n",
    "str2 = str1.replace(\"world\",\"python\")\n",
    "print(str2)"
   ]
  },
  {
   "cell_type": "markdown",
   "id": "5425a4dd-2de2-4bf9-aaaa-5bfd15610cbd",
   "metadata": {},
   "source": [
    "### 6.split():\n",
    "Split the string into a list of substrings.\n"
   ]
  },
  {
   "cell_type": "code",
   "execution_count": 90,
   "id": "152e55d5-b060-4ce0-8de8-c27388455134",
   "metadata": {},
   "outputs": [
    {
     "name": "stdout",
     "output_type": "stream",
     "text": [
      "['python', 'is', 'fun']\n"
     ]
    }
   ],
   "source": [
    "#example\n",
    "str= \"python is fun\"\n",
    "print(str.split())"
   ]
  },
  {
   "cell_type": "markdown",
   "id": "090f84c4-061b-4f1b-9690-75154d40a6bb",
   "metadata": {},
   "source": [
    "### 7.join():\n",
    "Join's a list of string into a single string.\n"
   ]
  },
  {
   "cell_type": "code",
   "execution_count": 97,
   "id": "4bf9f5db-444f-4579-8c10-f698d434c496",
   "metadata": {},
   "outputs": [
    {
     "name": "stdout",
     "output_type": "stream",
     "text": [
      "python is fun\n"
     ]
    }
   ],
   "source": [
    "#example\n",
    "sentence = ['python', 'is', 'fun']\n",
    "print(' '.join(sentence))"
   ]
  },
  {
   "cell_type": "markdown",
   "id": "d567c3f4-1bb8-4577-9b2c-692e665ddf4d",
   "metadata": {},
   "source": [
    "### 8.capitalize():\n",
    "The capitalize() method returns a string where the first character is upper case, and the rest is lower case."
   ]
  },
  {
   "cell_type": "code",
   "execution_count": 102,
   "id": "f3c10d32-0c09-4724-acb3-5fbe25e16c31",
   "metadata": {},
   "outputs": [
    {
     "name": "stdout",
     "output_type": "stream",
     "text": [
      "Hello, my name is vinod.\n"
     ]
    }
   ],
   "source": [
    "#example\n",
    "str = \"hello, my name is vinod.\"\n",
    "x = str.capitalize()\n",
    "\n",
    "print (x)"
   ]
  },
  {
   "cell_type": "markdown",
   "id": "66f0ce5b-e14d-436c-98ba-677747f551f0",
   "metadata": {},
   "source": [
    "### 9.casefold():\n",
    "The casefold() method returns a string where all the characters are lower case."
   ]
  },
  {
   "cell_type": "code",
   "execution_count": 109,
   "id": "11a60c83-fba9-42de-b72c-a31d175e99fd",
   "metadata": {},
   "outputs": [
    {
     "name": "stdout",
     "output_type": "stream",
     "text": [
      "hello, welcome to my world\n"
     ]
    }
   ],
   "source": [
    "#example\n",
    "str = \"HELLO, welcome to my world\"\n",
    "x = str.casefold()\n",
    "\n",
    "print(x)"
   ]
  },
  {
   "cell_type": "markdown",
   "id": "753db179-3089-45da-9f42-2096ecca372d",
   "metadata": {},
   "source": [
    "### 10.center():\n",
    "The center() method will center align the string, using a specified character (space is default) as the fill character."
   ]
  },
  {
   "cell_type": "code",
   "execution_count": 115,
   "id": "e9bd1065-4a4a-4b14-a69f-93751889530d",
   "metadata": {},
   "outputs": [
    {
     "name": "stdout",
     "output_type": "stream",
     "text": [
      "                      arjun                       \n"
     ]
    }
   ],
   "source": [
    "#example\n",
    "word=\"arjun\"\n",
    "cen = word.center(50)\n",
    "\n",
    "print(cen)"
   ]
  },
  {
   "cell_type": "markdown",
   "id": "7b3d8bec-2d60-40a8-accb-a97e7f11ae3e",
   "metadata": {},
   "source": [
    "### 11.count():\n",
    "The count() method returns the number of times a specified value appears in the string."
   ]
  },
  {
   "cell_type": "code",
   "execution_count": 120,
   "id": "dd3f10e9-c44f-4864-8fd2-e4e02563df04",
   "metadata": {},
   "outputs": [
    {
     "name": "stdout",
     "output_type": "stream",
     "text": [
      "3\n"
     ]
    }
   ],
   "source": [
    "#example \n",
    "sentence = \"raju is a goodboy \"\n",
    "x=sentence.count(\"o\")\n",
    "print(x)"
   ]
  },
  {
   "cell_type": "markdown",
   "id": "de5a57d0-a91f-4fec-879a-9a8fa063a090",
   "metadata": {},
   "source": [
    "### 12. endswith():\n",
    "The endswith() method returns True if the string ends with the specified value, otherwise False."
   ]
  },
  {
   "cell_type": "code",
   "execution_count": 128,
   "id": "9a5bb759-f973-4fe6-b057-fc514cd6e18f",
   "metadata": {},
   "outputs": [
    {
     "name": "stdout",
     "output_type": "stream",
     "text": [
      "False\n",
      "True\n"
     ]
    }
   ],
   "source": [
    "#example\n",
    "str = \"there is a good boy , where that boy was he , he ran away to market , the people there to see\" \n",
    "x= str.endswith(\"boy\")\n",
    "y= str.endswith(\"see\")\n",
    "print(x)\n",
    "print(y)"
   ]
  },
  {
   "cell_type": "markdown",
   "id": "5c25d5c6-7014-408e-9976-9cd519bb64f3",
   "metadata": {},
   "source": [
    "### 13.find():\n",
    "Searches the string for a specified value and returns the position of where it was found."
   ]
  },
  {
   "cell_type": "code",
   "execution_count": 136,
   "id": "b0882960-ed10-4a3a-b1ec-07a0136d39e6",
   "metadata": {},
   "outputs": [
    {
     "name": "stdout",
     "output_type": "stream",
     "text": [
      "13\n"
     ]
    }
   ],
   "source": [
    "#example\n",
    "str = \"there is a good boy , where that boy was he , he ran away to market , the people there to see\" \n",
    "x= str.find(\"b\")\n",
    "print(x)"
   ]
  },
  {
   "cell_type": "markdown",
   "id": "5719188a-e48b-47ee-87f4-31f691978b84",
   "metadata": {},
   "source": [
    "### 14.translate():\n",
    "Returns a translated string.\n"
   ]
  },
  {
   "cell_type": "code",
   "execution_count": 157,
   "id": "85d79062-1917-41ef-9831-abef1ba22cb4",
   "metadata": {},
   "outputs": [
    {
     "name": "stdout",
     "output_type": "stream",
     "text": [
      "hello Raju\n"
     ]
    }
   ],
   "source": [
    "#example \n",
    "sent = \"hello raju\"\n",
    "x = str.maketrans(\"r\",\"R\")\n",
    "print(sent.translate(x))"
   ]
  },
  {
   "cell_type": "markdown",
   "id": "5a4f3461-7fd1-417f-b375-4fe16d8dea21",
   "metadata": {},
   "source": [
    "### 15. isalnum():\n",
    "The isalnum() method returns True if all the characters are alphanumeric, meaning alphabet letter (a-z) and numbers (0-9)."
   ]
  },
  {
   "cell_type": "code",
   "execution_count": 160,
   "id": "2629a3f6-3f38-4c3b-a64c-1c2aec8fca2d",
   "metadata": {},
   "outputs": [
    {
     "name": "stdout",
     "output_type": "stream",
     "text": [
      "True\n"
     ]
    }
   ],
   "source": [
    "#example\n",
    "word = \"vinodgoud8702\"\n",
    "z = word.isalnum()\n",
    "print()"
   ]
  },
  {
   "cell_type": "code",
   "execution_count": 162,
   "id": "fd33728e-f2f5-40c9-8d08-7edb06791020",
   "metadata": {},
   "outputs": [
    {
     "name": "stdout",
     "output_type": "stream",
     "text": [
      "False\n"
     ]
    }
   ],
   "source": [
    "#example\n",
    "word = \"vinodgoud8702@gmail.com\"\n",
    "x = word.isalnum()\n",
    "print(x)"
   ]
  },
  {
   "cell_type": "markdown",
   "id": "f8809ffd-d3d3-4707-953b-ce39ba3c944e",
   "metadata": {},
   "source": [
    "### 16. isalpha():\n",
    "The isalpha() method returns True if all the characters are alphabet letters (a-z)."
   ]
  },
  {
   "cell_type": "code",
   "execution_count": 167,
   "id": "9d3ea497-edde-4e08-b3b7-5ee6fd1a66da",
   "metadata": {},
   "outputs": [
    {
     "name": "stdout",
     "output_type": "stream",
     "text": [
      "True\n"
     ]
    }
   ],
   "source": [
    "#example\n",
    "word = \"vinodgoud\"\n",
    "y = word.isalpha()\n",
    "print(y)"
   ]
  },
  {
   "cell_type": "code",
   "execution_count": 169,
   "id": "70b652fe-2def-42b9-bbba-6d57ea117baf",
   "metadata": {},
   "outputs": [
    {
     "name": "stdout",
     "output_type": "stream",
     "text": [
      "False\n"
     ]
    }
   ],
   "source": [
    "#example\n",
    "sent =\"vinod8702\"\n",
    "z=sent.isalpha()\n",
    "print(z)"
   ]
  },
  {
   "cell_type": "markdown",
   "id": "ec261710-fcc6-4c70-84a9-be73f2e757ca",
   "metadata": {},
   "source": [
    "### 17.isdigit():\n",
    "The isdigit() method returns True if all the characters are digits, otherwise False."
   ]
  },
  {
   "cell_type": "code",
   "execution_count": 172,
   "id": "a72534a8-73c7-406f-8485-d4205e10ed04",
   "metadata": {},
   "outputs": [
    {
     "name": "stdout",
     "output_type": "stream",
     "text": [
      "True\n"
     ]
    }
   ],
   "source": [
    "num = \"123687654\"\n",
    "print(num.isdigit())"
   ]
  },
  {
   "cell_type": "code",
   "execution_count": 174,
   "id": "b2158c56-b832-4eb3-9718-67cf03b1523c",
   "metadata": {},
   "outputs": [
    {
     "name": "stdout",
     "output_type": "stream",
     "text": [
      "False\n"
     ]
    }
   ],
   "source": [
    "text = \"vinod\"\n",
    "print(text.isdigit())"
   ]
  },
  {
   "cell_type": "markdown",
   "id": "2320b4c5-bf00-4bb1-b063-887dbc93ce8e",
   "metadata": {},
   "source": [
    "### 18. isspace():\n",
    "The isspace() method returns True if all the characters in a string are whitespaces, otherwise False."
   ]
  },
  {
   "cell_type": "code",
   "execution_count": 180,
   "id": "4cf82dc9-bb05-41f0-b3b4-064c4e45a54b",
   "metadata": {},
   "outputs": [
    {
     "name": "stdout",
     "output_type": "stream",
     "text": [
      "True\n"
     ]
    }
   ],
   "source": [
    "word = \"    \"\n",
    "x = word.isspace()\n",
    "\n",
    "print(x)"
   ]
  },
  {
   "cell_type": "markdown",
   "id": "c94279d0-ccf3-4fc9-a11d-663281d184c3",
   "metadata": {},
   "source": [
    "### 19.title()\n",
    "Converts the first character of each word to upper case\n",
    "\n",
    "The title() method returns a string where the first character in every word is upper case. Like a header, or a title.\n",
    "\n",
    "If the word contains a number or a symbol, the first letter after that will be converted to upper case.\n"
   ]
  },
  {
   "cell_type": "code",
   "execution_count": 183,
   "id": "6436688d-ae6b-41ba-9218-4a169af5fd16",
   "metadata": {},
   "outputs": [
    {
     "name": "stdout",
     "output_type": "stream",
     "text": [
      "Welcome To My World\n"
     ]
    }
   ],
   "source": [
    "txt = \"Welcome to my world\"\n",
    "x = txt.title()\n",
    "\n",
    "print(x)"
   ]
  },
  {
   "cell_type": "markdown",
   "id": "50a3f800-4be7-46e7-b5c4-de1dd56e6a1e",
   "metadata": {},
   "source": [
    "### 20. zfill():\n",
    "Fills the string with a specified number of 0 values at the beginning.\n",
    "- Syntax\n",
    "string.zfill(len)"
   ]
  },
  {
   "cell_type": "code",
   "execution_count": 194,
   "id": "d0dd7411-edad-4e3a-a9d9-25cd0c698ac0",
   "metadata": {},
   "outputs": [
    {
     "name": "stdout",
     "output_type": "stream",
     "text": [
      "00000vinnu\n"
     ]
    }
   ],
   "source": [
    "#example\n",
    "word = \"vinnu\"\n",
    "print(word.zfill(10))"
   ]
  },
  {
   "cell_type": "markdown",
   "id": "a3c0b5fe-a4a3-4e5d-855c-7621a6c239c3",
   "metadata": {},
   "source": [
    "### 21. swapcase():\n",
    "The swapcase() method returns a string where all the upper case letters are lower case and vice versa."
   ]
  },
  {
   "cell_type": "code",
   "execution_count": 198,
   "id": "bb8f4d95-e627-42e7-8d57-6ad5e11e10f5",
   "metadata": {},
   "outputs": [
    {
     "name": "stdout",
     "output_type": "stream",
     "text": [
      "HELLO WORLD , MY NAME IS VINOD\n"
     ]
    }
   ],
   "source": [
    "#example\n",
    "sentence = \"hello world , my name is vinod\"\n",
    "z= sentence.swapcase()\n",
    "print(z)"
   ]
  },
  {
   "cell_type": "code",
   "execution_count": 203,
   "id": "ae029799-e423-47fa-93ba-428ec40c9ee8",
   "metadata": {},
   "outputs": [
    {
     "name": "stdout",
     "output_type": "stream",
     "text": [
      "hELLO wORLD , mY nAME iS vINOD\n"
     ]
    }
   ],
   "source": [
    "#example\n",
    "sent = \"Hello World , My Name Is Vinod\"\n",
    "z= sent.swapcase()\n",
    "print(z)\n"
   ]
  },
  {
   "cell_type": "markdown",
   "id": "c7fd72d5-334c-4779-aafb-0266f9d9a4b9",
   "metadata": {},
   "source": [
    "### 22.title():\n",
    "The title() method returns a string where the first character in every word is upper case. Like a header, or a title."
   ]
  },
  {
   "cell_type": "code",
   "execution_count": 205,
   "id": "6ea16f61-18ef-42a4-9b0d-00a991181ec3",
   "metadata": {},
   "outputs": [
    {
     "name": "stdout",
     "output_type": "stream",
     "text": [
      "Begin Again , Never Give Up\n"
     ]
    }
   ],
   "source": [
    "#example\n",
    "word = \"begin again , never give up\"\n",
    "title = word.title()\n",
    "print(title)"
   ]
  },
  {
   "cell_type": "markdown",
   "id": "f5fda1d6-4c6b-4b5c-b58e-005fbc005052",
   "metadata": {},
   "source": [
    "### 23. lstrip():\n",
    "The lstrip() method removes any leading characters (space is the default leading character to remove)"
   ]
  },
  {
   "cell_type": "code",
   "execution_count": 220,
   "id": "2f6a9da9-52c5-4d7f-bf03-41676aa567e1",
   "metadata": {},
   "outputs": [
    {
     "name": "stdout",
     "output_type": "stream",
     "text": [
      "arjun     \n"
     ]
    }
   ],
   "source": [
    "#example\n",
    "txt = \".,.,';   ..arjun     \"\n",
    "\n",
    "x = txt.lstrip(\",'.; \")\n",
    "\n",
    "print(x)"
   ]
  },
  {
   "cell_type": "markdown",
   "id": "35d0b05a-b034-4c0e-b618-d358fd807e40",
   "metadata": {},
   "source": [
    "### 24. ljust():\n",
    "The ljust() method will left align the string, using a specified character (space is default) as the fill ch- aracter."
   ]
  },
  {
   "cell_type": "code",
   "execution_count": 225,
   "id": "486fea44-c003-46ca-b052-9bfe6d201e0c",
   "metadata": {},
   "outputs": [
    {
     "name": "stdout",
     "output_type": "stream",
     "text": [
      "vinuu\n"
     ]
    }
   ],
   "source": [
    "#example\n",
    "word = \"vinu\"\n",
    "\n",
    "x = word.ljust(5, \"u\")\n",
    "\n",
    "print(x)"
   ]
  },
  {
   "cell_type": "markdown",
   "id": "d7cb9ac4-d41c-42e7-a65b-91b63ec95e49",
   "metadata": {},
   "source": [
    "### 25.istitle():\n",
    "The istitle() method returns True if all words in a text start with a upper case letter, AND the rest of the word are lower case letters, otherwise False."
   ]
  },
  {
   "cell_type": "code",
   "execution_count": 228,
   "id": "523a9ab9-03d1-432c-93fa-2ef0462063c6",
   "metadata": {},
   "outputs": [
    {
     "name": "stdout",
     "output_type": "stream",
     "text": [
      "True\n"
     ]
    }
   ],
   "source": [
    "#example\n",
    "sent = \"Welcome To My World\"\n",
    "print(sent.istitle()) "
   ]
  },
  {
   "cell_type": "markdown",
   "id": "e02bf42c-9837-4f7c-8fe7-32ecd09b2ad9",
   "metadata": {},
   "source": [
    "### 26. isprintable():\n",
    "The isprintable() method returns True if all the characters are printable, otherwise False."
   ]
  },
  {
   "cell_type": "code",
   "execution_count": 1,
   "id": "05424213-8f2f-4c03-899c-55cd692c12cc",
   "metadata": {},
   "outputs": [
    {
     "name": "stdout",
     "output_type": "stream",
     "text": [
      "True\n",
      "False\n",
      "False\n"
     ]
    }
   ],
   "source": [
    "#example\n",
    "text = \"Hello, world!\"\n",
    "print(text.isprintable())\n",
    "text = \"\\t\"\n",
    "print(text.isprintable())\n",
    "text = \" \\n\"\n",
    "print(text.isprintable())"
   ]
  },
  {
   "cell_type": "markdown",
   "id": "895e34d7-22b8-4aa1-a612-f4691830f818",
   "metadata": {},
   "source": [
    "### 27. partition():\n",
    "\n",
    "- The partition() method searches for a specified string, and splits the string into a tuple containing three elements.\n",
    "- The first element contains the part before the specified string.\n",
    "- The second element contains the specified string.\n",
    "- The third element contains the part after the string."
   ]
  },
  {
   "cell_type": "code",
   "execution_count": 4,
   "id": "853a1051-80bd-4411-9512-963d54218496",
   "metadata": {},
   "outputs": [
    {
     "name": "stdout",
     "output_type": "stream",
     "text": [
      "('i go to gym everyday', '', '')\n"
     ]
    }
   ],
   "source": [
    "#example\n",
    "txt = \"i go to gym everyday\"\n",
    "x = txt.partition(\"running\")\n",
    "print(x)"
   ]
  },
  {
   "cell_type": "markdown",
   "id": "dddc9b0f-57f0-477a-a5ac-21974724b048",
   "metadata": {},
   "source": [
    "### 28. startswith():\n",
    "The startswith() method returns True if the string starts with the specified value, otherwise False."
   ]
  },
  {
   "cell_type": "code",
   "execution_count": 7,
   "id": "2c8f6424-af56-4b83-a880-0340e30870e7",
   "metadata": {},
   "outputs": [
    {
     "name": "stdout",
     "output_type": "stream",
     "text": [
      "False\n"
     ]
    }
   ],
   "source": [
    "#example\n",
    "txt = \"hello, my name is vinod\"\n",
    "\n",
    "x = txt.startswith(\"hell\", 7, 20)\n",
    "\n",
    "print(x)"
   ]
  },
  {
   "cell_type": "markdown",
   "id": "0d5f5582-bca0-4bc2-8c2d-77b12d0f6572",
   "metadata": {},
   "source": [
    "### 29. swapcase():\n",
    "The swapcase() method returns a string where all the upper case letters are lower case and vice versa."
   ]
  },
  {
   "cell_type": "code",
   "execution_count": 10,
   "id": "60e8c80f-bb6b-4f32-9069-8b2338c7e10f",
   "metadata": {},
   "outputs": [
    {
     "name": "stdout",
     "output_type": "stream",
     "text": [
      "hELLO mY nAME iS VINOD\n"
     ]
    }
   ],
   "source": [
    "#example\n",
    "txt = \"Hello My Name Is vinod\"\n",
    "\n",
    "x = txt.swapcase()\n",
    "\n",
    "print(x)\n"
   ]
  },
  {
   "cell_type": "markdown",
   "id": "753b2d89-2f37-492c-9eaf-cf977cce305d",
   "metadata": {},
   "source": [
    "### 30. isidentifier():\n",
    "The isidentifier() method returns True if the string is a valid identifier, otherwise False.\n",
    "\n",
    "A string is considered a valid identifier if it only contains alphanumeric letters (a-z) and (0-9), or underscores (_). A valid identifier cannot start with a number, or contain any spaces."
   ]
  },
  {
   "cell_type": "code",
   "execution_count": 25,
   "id": "a46597f0-627d-4676-8763-173fec337552",
   "metadata": {},
   "outputs": [
    {
     "name": "stdout",
     "output_type": "stream",
     "text": [
      "True\n",
      "False\n",
      "False\n",
      "True\n"
     ]
    }
   ],
   "source": [
    "#example\n",
    "a = \"ISidentifier\"\n",
    "b = \" vinod8702\"\n",
    "c = \"2singers\"\n",
    "d = \"_work_\"\n",
    "\n",
    "print(a.isidentifier())\n",
    "print(b.isidentifier())\n",
    "print(c.isidentifier())\n",
    "print(d.isidentifier())"
   ]
  },
  {
   "cell_type": "code",
   "execution_count": null,
   "id": "bb048c01-e634-4d67-9341-67d55e3bcfee",
   "metadata": {},
   "outputs": [],
   "source": []
  }
 ],
 "metadata": {
  "kernelspec": {
   "display_name": "Python 3 (ipykernel)",
   "language": "python",
   "name": "python3"
  },
  "language_info": {
   "codemirror_mode": {
    "name": "ipython",
    "version": 3
   },
   "file_extension": ".py",
   "mimetype": "text/x-python",
   "name": "python",
   "nbconvert_exporter": "python",
   "pygments_lexer": "ipython3",
   "version": "3.12.4"
  }
 },
 "nbformat": 4,
 "nbformat_minor": 5
}
