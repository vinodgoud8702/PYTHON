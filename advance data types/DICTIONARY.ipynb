{
 "cells": [
  {
   "cell_type": "markdown",
   "id": "67d1e599-2264-4ced-baa9-d23ed9b3ef0c",
   "metadata": {},
   "source": [
    "# PYTHON DICTIONARY"
   ]
  },
  {
   "cell_type": "markdown",
   "id": "732e5592-c494-4b6a-b527-3126f3cf4735",
   "metadata": {},
   "source": [
    "- A dictionary is a built-in data type in Python that stores data in key-value pairs.\n",
    "- Defined using curly braces {}, with key-value pairs separated by colons ':'and items separated by commas','.\n",
    "- You can change a dictionary after its creation (e.g., adding, removing, or modifying key-value pairs).\n",
    "- Values are accessed using keys, not indices.\n",
    "- dictionaries are also known as associative arreys or hash maps in other programming languages.\n",
    "- Dictionaries cannot have two items with the same key."
   ]
  },
  {
   "cell_type": "markdown",
   "id": "b84b94ef-f0c5-4fe1-91b3-26cb4c75c16c",
   "metadata": {},
   "source": [
    "## Creating Dictionaries "
   ]
  },
  {
   "cell_type": "code",
   "execution_count": 46,
   "id": "034ad030-8a6d-4c1a-9c25-1facbbf8453c",
   "metadata": {},
   "outputs": [
    {
     "name": "stdout",
     "output_type": "stream",
     "text": [
      "<class 'dict'>\n",
      "{'name': 'vinod', 'age': 21, 'grade': 'A'}\n",
      "{'name': 'vinod', 'age': 21, 'grade': [90, 95, 90]}\n"
     ]
    }
   ],
   "source": [
    "# empty dict\n",
    "empty_dict = {}\n",
    "print(type(empty_dict))\n",
    "\n",
    "\n",
    "# Dictionary with key-value pairs.\n",
    "student = {'name':'vinod','age':21,'grade':'A'}\n",
    "print(student)\n",
    "\n",
    "\n",
    "# mixed_Dictionary\n",
    "mixed_dict = {\n",
    "    \"name\": \"vinod\",\n",
    "    \"age\": 21,\n",
    "    \"grade\": [90,95,90]\n",
    "}\n",
    "print(mixed_dict)\n"
   ]
  },
  {
   "cell_type": "markdown",
   "id": "1166e041-552c-4f99-857f-851e12a74276",
   "metadata": {},
   "source": [
    "## Accessing values "
   ]
  },
  {
   "cell_type": "markdown",
   "id": "7f4709de-1f2a-44b7-bfef-4fa26b44b636",
   "metadata": {},
   "source": [
    "you can access the values in a dictionary  using the keys ."
   ]
  },
  {
   "cell_type": "code",
   "execution_count": 52,
   "id": "74501c05-b131-4332-9e44-ad56e9e072dc",
   "metadata": {},
   "outputs": [
    {
     "name": "stdout",
     "output_type": "stream",
     "text": [
      "{'brand': 'Ford', 'model': 'Mustang', 'year': 1964}\n",
      "{'name': 'vinod', 'age': 21, 'grade': [90, 95, 90]}\n"
     ]
    }
   ],
   "source": [
    "dict = {\n",
    "  \"brand\": \"Ford\",\n",
    "  \"model\": \"Mustang\",\n",
    "  \"year\": 1964\n",
    "}\n",
    " \n",
    "mixed_dict = {\n",
    "    \"name\": \"vinod\",\n",
    "    \"age\": 21,\n",
    "    \"grade\": [90,95,90]\n",
    "}\n",
    "\n",
    "print(dict)\n",
    "print(mixed_dict)"
   ]
  },
  {
   "cell_type": "code",
   "execution_count": 64,
   "id": "52b89f10-1aa4-4b05-9d02-fb32d925f074",
   "metadata": {},
   "outputs": [
    {
     "name": "stdout",
     "output_type": "stream",
     "text": [
      "Ford\n",
      "Mustang\n",
      "1964\n",
      "vinod\n",
      "21\n",
      "[90, 95, 90]\n"
     ]
    }
   ],
   "source": [
    "# accessing elements\n",
    "print(dict[\"brand\"])\n",
    "print(dict[\"model\"])\n",
    "print(dict[\"year\"])\n",
    "print(mixed_dict[\"name\"])\n",
    "print(mixed_dict[\"age\"])\n",
    "print(mixed_dict[\"grade\"])"
   ]
  },
  {
   "cell_type": "markdown",
   "id": "bcd663af-fe3d-4412-a633-9305c743f6c8",
   "metadata": {},
   "source": [
    "## Modifying And Adding Entires"
   ]
  },
  {
   "cell_type": "markdown",
   "id": "e137735c-4dcc-4254-95f2-d3fa769ac7f2",
   "metadata": {},
   "source": [
    "Dictionaries¶are mutable , so you can modify existing entries or add new ones."
   ]
  },
  {
   "cell_type": "code",
   "execution_count": 77,
   "id": "b13e78c6-a57c-4421-926a-5bf88dbe8f6d",
   "metadata": {},
   "outputs": [
    {
     "name": "stdout",
     "output_type": "stream",
     "text": [
      "{'brand': 'Ford', 'model': 'Mustang', 'year': 1970}\n"
     ]
    }
   ],
   "source": [
    "# modifying\n",
    "dict = {\n",
    "  \"brand\": \"Ford\", \n",
    "  \"model\": \"Mustang\",\n",
    "  \"year\": 1964\n",
    "}\n",
    "\n",
    "dict[\"year\"]= 1970\n",
    "print(dict)"
   ]
  },
  {
   "cell_type": "code",
   "execution_count": 79,
   "id": "e2aa9bcd-531e-404d-a8b4-478c85af2206",
   "metadata": {},
   "outputs": [
    {
     "name": "stdout",
     "output_type": "stream",
     "text": [
      "{'name': 'vinod', 'age': 21, 'grade': [90, 95, 90], 'qualification': 'B.sc (Datascience-Mathematics-Statistics)'}\n"
     ]
    }
   ],
   "source": [
    "# adding \n",
    "mixed_dict = {\n",
    "    \"name\": \"vinod\",\n",
    "    \"age\": 21,\n",
    "    \"grade\": [90,95,90]\n",
    "}\n",
    "mixed_dict[\"qualification\"]= \"B.sc (Datascience-Mathematics-Statistics)\"\n",
    "print(mixed_dict)"
   ]
  },
  {
   "cell_type": "markdown",
   "id": "f17f75ab-565c-46a0-8fb0-81c1234d9113",
   "metadata": {},
   "source": [
    "# PYTHON METHODS"
   ]
  },
  {
   "cell_type": "markdown",
   "id": "b3aad272-9e55-46f5-81c1-29e8c4857499",
   "metadata": {},
   "source": [
    "### 1.  Get()\n",
    "Returns the value for a specified key. it allows you to provide a default value if the key is notb found."
   ]
  },
  {
   "cell_type": "markdown",
   "id": "95d20b5f-10e1-4f63-8a67-dba9444b395b",
   "metadata": {},
   "source": [
    "- Syntax: dictionary.get()"
   ]
  },
  {
   "cell_type": "markdown",
   "id": "0e682e50-bbe0-44d3-a60d-f987ac161cd6",
   "metadata": {},
   "source": [
    "dict = {\n",
    "  \"brand\": \"Ford\", \n",
    "  \"model\": \"Mustang\",\n",
    "  \"year\": 1964\n",
    "}\n",
    "\n",
    "car = dict.get(\"brand\",\"not found\")\n",
    "mileage = dict.get(\"fualefficience\",\"not available\")\n",
    "company = dict.get(\"varient\", \"not found\")\n",
    "\n",
    "print(car)\n",
    "print(mileage)\n",
    "print(company)"
   ]
  },
  {
   "cell_type": "markdown",
   "id": "0c44399f-7cee-4822-a2a3-ad8072e2f79c",
   "metadata": {},
   "source": [
    "### 2.Key()"
   ]
  },
  {
   "cell_type": "markdown",
   "id": "6e91b8b6-6c52-498a-8e94-ee8e0119b1d5",
   "metadata": {},
   "source": [
    "The Python dictionary keys() method is used to retrieve the list of all the keys in the dictionary."
   ]
  },
  {
   "cell_type": "markdown",
   "id": "0475f9fb-6505-4814-88cf-89e6c1db7525",
   "metadata": {},
   "source": [
    "- Syntax: dict.keys()"
   ]
  },
  {
   "cell_type": "code",
   "execution_count": 191,
   "id": "65644dc1-b7c0-4c53-afa9-5867378d364a",
   "metadata": {},
   "outputs": [
    {
     "name": "stdout",
     "output_type": "stream",
     "text": [
      "{'name': 'vinod', 'age': 21, 'grade': [90, 95, 90]}\n",
      "dict_keys(['name', 'age', 'grade'])\n"
     ]
    }
   ],
   "source": [
    "bio = {\n",
    "    \"name\": \"vinod\",\n",
    "    \"age\": 21,\n",
    "    \"grade\": [90,95,90]\n",
    "}\n",
    "print(bio)\n",
    "keys = bio.keys()\n",
    "print(keys)"
   ]
  },
  {
   "cell_type": "markdown",
   "id": "38aeec4f-ca50-4d8f-a784-027ac42b2d16",
   "metadata": {},
   "source": [
    "### 3. Values()"
   ]
  },
  {
   "cell_type": "markdown",
   "id": "f28872ad-be8e-44c4-8ea8-f302c795bbb0",
   "metadata": {},
   "source": [
    "The values() method is a built-in dictionary method in Python that returns a view object which displays a list of all the values in the dictionary. This method allows you to access and work with the values stored in the dictionary."
   ]
  },
  {
   "cell_type": "markdown",
   "id": "24ffedf8-4255-4f2f-8792-9abb93fa6de2",
   "metadata": {},
   "source": [
    "- Syntax: dictionary.values()"
   ]
  },
  {
   "cell_type": "code",
   "execution_count": 195,
   "id": "26eb9bb9-6548-4ccb-a4a7-28d2cf374f6b",
   "metadata": {},
   "outputs": [
    {
     "name": "stdout",
     "output_type": "stream",
     "text": [
      "dict_values(['Ford', 'Mustang', 1964])\n"
     ]
    }
   ],
   "source": [
    "dict = {\n",
    "  \"brand\": \"Ford\", \n",
    "  \"model\": \"Mustang\",\n",
    "  \"year\": 1964\n",
    "}\n",
    "\n",
    "result = dict.values()\n",
    "print(result)"
   ]
  },
  {
   "cell_type": "markdown",
   "id": "13d816d1-7fd8-4f39-9ae3-3c01cafe0567",
   "metadata": {},
   "source": [
    "### 4. Items()"
   ]
  },
  {
   "cell_type": "markdown",
   "id": "9deef2e2-e456-4c96-b011-04f3db154c91",
   "metadata": {},
   "source": [
    "- Syntax: dictionary.items()"
   ]
  },
  {
   "cell_type": "markdown",
   "id": "c88bb755-c2c7-4259-9de3-688d7d2975f8",
   "metadata": {},
   "source": [
    "Python dictionary items() method returns a set-like object that can provide a view on the dictionary’s items. Each item in the dictionary is a key-value pair."
   ]
  },
  {
   "cell_type": "code",
   "execution_count": 210,
   "id": "670dc93b-e4b5-4569-b981-ea1deb43f037",
   "metadata": {},
   "outputs": [
    {
     "name": "stdout",
     "output_type": "stream",
     "text": [
      "dict_items([('name', 'vinod'), ('age', 21), ('grade', [90, 95, 90])])\n"
     ]
    }
   ],
   "source": [
    "bio = {\n",
    "    \"name\": \"vinod\",\n",
    "    \"age\": 21,\n",
    "    \"grade\": [90,95,90]\n",
    "}\n",
    "\n",
    "item = bio.items()\n",
    "print(item)\n"
   ]
  },
  {
   "cell_type": "markdown",
   "id": "0007f333-134e-499b-a941-653c36576bc7",
   "metadata": {},
   "source": [
    "### 5.  pop()"
   ]
  },
  {
   "cell_type": "markdown",
   "id": "92eae9ab-3f95-4b4f-863d-472c90ea2664",
   "metadata": {},
   "source": [
    "The pop() method is used with lists to remove and return the specified element from that list\n",
    "- The syntax for the pop() method with lists is shown below."
   ]
  },
  {
   "cell_type": "code",
   "execution_count": 217,
   "id": "89e01500-e2c4-4af1-a418-52a200e4b2c9",
   "metadata": {},
   "outputs": [
    {
     "name": "stdout",
     "output_type": "stream",
     "text": [
      "1964\n"
     ]
    }
   ],
   "source": [
    "dict = {\n",
    "  \"brand\": \"Ford\", \n",
    "  \"model\": \"Mustang\",\n",
    "  \"year\": 1964\n",
    "}\n",
    "\n",
    "remove = dict.pop(\"year\")\n",
    "print(remove)"
   ]
  },
  {
   "cell_type": "markdown",
   "id": "5a27b0ba-67f4-4e63-8326-f9628298580b",
   "metadata": {},
   "source": [
    "### 6. popitem() :\n",
    "Removes and returns the last inserted key value pair as tuple"
   ]
  },
  {
   "cell_type": "code",
   "execution_count": 8,
   "id": "55573de4-238b-493a-bd91-f9f275f43c30",
   "metadata": {},
   "outputs": [
    {
     "name": "stdout",
     "output_type": "stream",
     "text": [
      "('year', 1964)\n",
      "{'brand': 'Ford', 'model': 'Mustang'}\n"
     ]
    }
   ],
   "source": [
    "dict = {\n",
    "  \"brand\": \"Ford\", \n",
    "  \"model\": \"Mustang\",\n",
    "  \"year\": 1964\n",
    "}\n",
    "last_item=dict.popitem()\n",
    "print(last_item)\n",
    "print(dict)\n"
   ]
  },
  {
   "cell_type": "markdown",
   "id": "3fa18423-688e-4cc9-9a76-0fe738d13eee",
   "metadata": {},
   "source": [
    "###  7. update() :\n",
    "Updates the dictionary with the elements from another dictionary or from an iterable key value pairs"
   ]
  },
  {
   "cell_type": "code",
   "execution_count": 15,
   "id": "17db1e1b-c56b-48b6-807d-f27ef5df210b",
   "metadata": {},
   "outputs": [
    {
     "data": {
      "text/plain": [
       "{'name': 'vinod goud', 'age': 21, 'grade': 'A'}"
      ]
     },
     "execution_count": 15,
     "metadata": {},
     "output_type": "execute_result"
    }
   ],
   "source": [
    "student = {\n",
    "    'name' : 'vinod goud',\n",
    "    'age' : 21,\n",
    "    'grade' : 'A'\n",
    "}\n",
    "student"
   ]
  },
  {
   "cell_type": "code",
   "execution_count": 17,
   "id": "9987a797-7cac-4e9a-8f9f-0520f09ab744",
   "metadata": {},
   "outputs": [
    {
     "name": "stdout",
     "output_type": "stream",
     "text": [
      "{'name': 'vinod goud', 'age': 22, 'grade': 'A+'}\n"
     ]
    }
   ],
   "source": [
    "new_data = {'age' : 22, 'grade' : 'A+'}\n",
    "student.update(new_data)\n",
    "print(student)"
   ]
  },
  {
   "cell_type": "markdown",
   "id": "063ad99c-7670-4cb8-945b-d4a2fe73cb7c",
   "metadata": {},
   "source": [
    "### 8.clear():\n",
    "The clear() method removes all the elements from a dictionary."
   ]
  },
  {
   "cell_type": "code",
   "execution_count": 22,
   "id": "10090e48-7b3f-4563-90f9-b5a27214640a",
   "metadata": {},
   "outputs": [
    {
     "name": "stdout",
     "output_type": "stream",
     "text": [
      "{'name': 'vinod', 'age': 21, 'grade': [90, 95, 90]}\n",
      "{}\n"
     ]
    }
   ],
   "source": [
    "bio = {\n",
    "    \"name\": \"vinod\",\n",
    "    \"age\": 21,\n",
    "    \"grade\": [90,95,90]\n",
    "}\n",
    "print(bio)\n",
    "bio.clear()\n",
    "print(bio)"
   ]
  },
  {
   "cell_type": "markdown",
   "id": "87348d73-51d4-4629-9f9e-608e68cec1b3",
   "metadata": {},
   "source": [
    "### 9.copy():\n",
    "The copy() method returns a copy of the specified dictionary."
   ]
  },
  {
   "cell_type": "code",
   "execution_count": 25,
   "id": "fd30fbd5-0b35-4b93-8f7a-308c4cc2799a",
   "metadata": {},
   "outputs": [
    {
     "name": "stdout",
     "output_type": "stream",
     "text": [
      "{'brand': 'Ford', 'model': 'Mustang', 'year': 1964}\n"
     ]
    }
   ],
   "source": [
    "dict = {\n",
    "  \"brand\": \"Ford\", \n",
    "  \"model\": \"Mustang\",\n",
    "  \"year\": 1964\n",
    "}\n",
    "\n",
    "dict.copy()\n",
    "print(dict)"
   ]
  },
  {
   "cell_type": "markdown",
   "id": "281dfa7d-5593-4be4-b184-a68621624259",
   "metadata": {},
   "source": [
    "### 10.fromkeys():\n",
    "The fromkeys() method returns a dictionary with the specified keys and the specified value."
   ]
  },
  {
   "cell_type": "code",
   "execution_count": 28,
   "id": "213026dd-9fab-49d6-a111-6a3988257aa7",
   "metadata": {},
   "outputs": [
    {
     "data": {
      "text/plain": [
       "{'Brand': None, 'Model': None, 'Year': None}"
      ]
     },
     "execution_count": 28,
     "metadata": {},
     "output_type": "execute_result"
    }
   ],
   "source": [
    "dict = {\n",
    "     \"Brand\" : \"Ford\",\n",
    "     \"Model\" : \"Mustang\",\n",
    "     \"Year\"  : 1965\n",
    "}\n",
    "dict.fromkeys(dict)"
   ]
  },
  {
   "cell_type": "markdown",
   "id": "3952fb67-24b0-4997-9b42-a7ef82dfd312",
   "metadata": {},
   "source": [
    "### 11.setdefault():\n",
    "The setdefault() method returns the value of the item with the specified key.\n",
    "\n",
    "If the key does not exist, insert the key, with the specified value"
   ]
  },
  {
   "cell_type": "code",
   "execution_count": 31,
   "id": "9dcc3da2-224a-46e0-9923-fb4633b6ce73",
   "metadata": {},
   "outputs": [
    {
     "name": "stdout",
     "output_type": "stream",
     "text": [
      "kumar\n",
      "radha\n"
     ]
    }
   ],
   "source": [
    "student = {'name':'vinod','age':21,'grade':'A'}\n",
    "x= student.setdefault(\"father_name\",\"kumar\")\n",
    "y= student.setdefault(\"mother_name\",\"radha\")\n",
    "print(x)\n",
    "print(y)"
   ]
  },
  {
   "cell_type": "code",
   "execution_count": null,
   "id": "2c2fef08-017c-424a-be01-e408d9c4be5f",
   "metadata": {},
   "outputs": [],
   "source": []
  }
 ],
 "metadata": {
  "kernelspec": {
   "display_name": "Python 3 (ipykernel)",
   "language": "python",
   "name": "python3"
  },
  "language_info": {
   "codemirror_mode": {
    "name": "ipython",
    "version": 3
   },
   "file_extension": ".py",
   "mimetype": "text/x-python",
   "name": "python",
   "nbconvert_exporter": "python",
   "pygments_lexer": "ipython3",
   "version": "3.12.4"
  }
 },
 "nbformat": 4,
 "nbformat_minor": 5
}
