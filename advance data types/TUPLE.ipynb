{
 "cells": [
  {
   "cell_type": "markdown",
   "id": "9088c51a-18ac-4023-83af-a0550c94811b",
   "metadata": {},
   "source": [
    "# PYTHON TUPLE"
   ]
  },
  {
   "cell_type": "markdown",
   "id": "1c4a39b4-e538-4fff-b322-c177af55c624",
   "metadata": {},
   "source": [
    "- Tuples are used to store multiple items in a single variable.\n",
    "- A tuple is a data type that represents an orderd, immutable(unchangeable) sequence of elements.\n",
    "- Tuples are similar to Lists, but the key difference is that tuples cannot be modified once they are created\n",
    "- They are defined using parantheses ( ) and elements are seperated by commas (,). ets."
   ]
  },
  {
   "cell_type": "markdown",
   "id": "1d1d824a-5ca4-4e47-9ff1-886a847e8a8e",
   "metadata": {},
   "source": [
    "### Features of Python Tuple"
   ]
  },
  {
   "cell_type": "markdown",
   "id": "6981bdbd-3a7b-4aed-8fce-d872faf40d78",
   "metadata": {},
   "source": [
    "- Tuples are immutable data type, meaning their elements cannot be changed after they are generated.\n",
    "- Each element in a tuple has a specific order that will never change because tuples are orderd sequences."
   ]
  },
  {
   "cell_type": "markdown",
   "id": "146eff9d-6072-407c-ae21-7de84826a70e",
   "metadata": {},
   "source": [
    "## Creating a Tuple"
   ]
  },
  {
   "cell_type": "code",
   "execution_count": 14,
   "id": "93f2261b-cd41-408b-8fa5-1c14825c38b9",
   "metadata": {},
   "outputs": [
    {
     "name": "stdout",
     "output_type": "stream",
     "text": [
      "<class 'tuple'>\n",
      "('apple', 'banana', 'orange')\n",
      "<class 'tuple'>\n"
     ]
    }
   ],
   "source": [
    "empty_tuple = ()\n",
    "fruits = (\"apple\", \"banana\", \"orange\")\n",
    "print(type(empty_tuple))\n",
    "print(fruits)\n",
    "print(type(fruits))"
   ]
  },
  {
   "cell_type": "code",
   "execution_count": 16,
   "id": "90325895-babf-4a27-92fd-a6b23b6107fb",
   "metadata": {},
   "outputs": [
    {
     "data": {
      "text/plain": [
       "(1, 'apple', 3.14, True)"
      ]
     },
     "execution_count": 16,
     "metadata": {},
     "output_type": "execute_result"
    }
   ],
   "source": [
    "mixed_tuple = (1,\"apple\",3.14,True)\n",
    "mixed_tuple"
   ]
  },
  {
   "cell_type": "code",
   "execution_count": 18,
   "id": "3a24d925-300a-445b-b157-b893d2eb4e0f",
   "metadata": {},
   "outputs": [
    {
     "name": "stdout",
     "output_type": "stream",
     "text": [
      "<class 'tuple'>\n"
     ]
    }
   ],
   "source": [
    "single_element_tuple = (42,)\n",
    "print(type(single_element_tuple))"
   ]
  },
  {
   "cell_type": "code",
   "execution_count": 20,
   "id": "b11ae7fb-ad51-41b7-8400-e714b76a5ec1",
   "metadata": {},
   "outputs": [],
   "source": [
    "single_element_tuple = 42"
   ]
  },
  {
   "cell_type": "markdown",
   "id": "eea687fd-c496-46e3-b301-ecbfbc2a4b20",
   "metadata": {},
   "source": [
    "## Accessing of Tuples\n"
   ]
  },
  {
   "cell_type": "markdown",
   "id": "02a7666a-a9e6-4b49-8020-0ab6829786e5",
   "metadata": {},
   "source": [
    "Tuple support indexing and slicing, just like lists"
   ]
  },
  {
   "cell_type": "code",
   "execution_count": 25,
   "id": "e73719da-e966-48da-aa74-269dc3687aca",
   "metadata": {},
   "outputs": [
    {
     "name": "stdout",
     "output_type": "stream",
     "text": [
      "apple\n",
      "('apple', 'banana', 'orange')\n"
     ]
    }
   ],
   "source": [
    "fruits = (\"apple\",\"banana\",\"orange\")\n",
    "print(fruits[0])\n",
    "print(fruits[0:7])"
   ]
  },
  {
   "cell_type": "code",
   "execution_count": 27,
   "id": "1cd87163-e2fb-4eb9-8e2b-5f2bc54c3094",
   "metadata": {},
   "outputs": [
    {
     "name": "stdout",
     "output_type": "stream",
     "text": [
      "orange\n",
      "('apple', 'banana')\n"
     ]
    }
   ],
   "source": [
    "fruits = (\"apple\",\"banana\",\"orange\")\n",
    "print(fruits[-1])\n",
    "print(fruits[-3:-1])"
   ]
  },
  {
   "cell_type": "markdown",
   "id": "18f02b76-26a7-4907-b0d4-888fb2fd5be9",
   "metadata": {},
   "source": [
    "## Immutability"
   ]
  },
  {
   "cell_type": "markdown",
   "id": "1282da0c-0943-4cca-be90-805844f8e755",
   "metadata": {},
   "source": [
    "Once a tuple is created, you cannot change its element or add/remove elements"
   ]
  },
  {
   "cell_type": "code",
   "execution_count": 31,
   "id": "dd521c1e-7c47-4035-b9dd-03386c9d901d",
   "metadata": {},
   "outputs": [
    {
     "ename": "TypeError",
     "evalue": "'tuple' object does not support item assignment",
     "output_type": "error",
     "traceback": [
      "\u001b[1;31m---------------------------------------------------------------------------\u001b[0m",
      "\u001b[1;31mTypeError\u001b[0m                                 Traceback (most recent call last)",
      "Cell \u001b[1;32mIn[31], line 2\u001b[0m\n\u001b[0;32m      1\u001b[0m fruits \u001b[38;5;241m=\u001b[39m (\u001b[38;5;124m\"\u001b[39m\u001b[38;5;124mapple\u001b[39m\u001b[38;5;124m\"\u001b[39m,\u001b[38;5;124m\"\u001b[39m\u001b[38;5;124mbanana\u001b[39m\u001b[38;5;124m\"\u001b[39m,\u001b[38;5;124m\"\u001b[39m\u001b[38;5;124morange\u001b[39m\u001b[38;5;124m\"\u001b[39m)\n\u001b[1;32m----> 2\u001b[0m fruits[\u001b[38;5;241m2\u001b[39m] \u001b[38;5;241m=\u001b[39m \u001b[38;5;124m\"\u001b[39m\u001b[38;5;124mwater\u001b[39m\u001b[38;5;124m\"\u001b[39m\n\u001b[0;32m      3\u001b[0m \u001b[38;5;28mprint\u001b[39m(fruits)\n",
      "\u001b[1;31mTypeError\u001b[0m: 'tuple' object does not support item assignment"
     ]
    }
   ],
   "source": [
    "fruits = (\"apple\",\"banana\",\"orange\")\n",
    "fruits[2] = \"water\"\n",
    "print(fruits)"
   ]
  },
  {
   "cell_type": "markdown",
   "id": "48bfc50e-51ce-4166-bb44-09b067940467",
   "metadata": {},
   "source": [
    "# Tuple Operations\n",
    "- Concatenation\r",
    "- \n",
    "Repetition"
   ]
  },
  {
   "cell_type": "markdown",
   "id": "71c44d47-5c27-40f9-be0a-0fa3cf14256d",
   "metadata": {},
   "source": [
    "#### 1. Concatenation"
   ]
  },
  {
   "cell_type": "code",
   "execution_count": 36,
   "id": "81ee9eba-a706-45a7-b79b-7460899b9544",
   "metadata": {},
   "outputs": [
    {
     "name": "stdout",
     "output_type": "stream",
     "text": [
      "(1, 2, 3, 'a', 'b', 'c')\n"
     ]
    }
   ],
   "source": [
    "#Combing two tuples\n",
    "\n",
    "tuple1 = (1,2,3)\n",
    "tuple2 = ('a','b','c')\n",
    "result = tuple1 + tuple2\n",
    "print(result)"
   ]
  },
  {
   "cell_type": "markdown",
   "id": "31fc873e-7b45-4747-8a28-340615e22c58",
   "metadata": {},
   "source": [
    "#### 2. Repetition"
   ]
  },
  {
   "cell_type": "code",
   "execution_count": 40,
   "id": "04395fcf-c105-443a-8981-9eb2160a00f2",
   "metadata": {},
   "outputs": [
    {
     "name": "stdout",
     "output_type": "stream",
     "text": [
      "(1, 2, 3, 1, 2, 3, 1, 2, 3, 1, 2, 3, 1, 2, 3, 1, 2, 3, 1, 2, 3, 1, 2, 3, 1, 2, 3, 1, 2, 3, 1, 2, 3, 1, 2, 3, 1, 2, 3, 1, 2, 3, 1, 2, 3, 1, 2, 3, 1, 2, 3, 1, 2, 3, 1, 2, 3, 1, 2, 3)\n"
     ]
    }
   ],
   "source": [
    "# Repeting a tuple\n",
    "\n",
    "tuple1 = (1,2,3)\n",
    "result = tuple1 * 20\n",
    "print(result)"
   ]
  },
  {
   "cell_type": "markdown",
   "id": "a5a12e0e-a668-4679-a9f7-ff80e2fe57e2",
   "metadata": {},
   "source": [
    "# Change Tuple Values\n",
    "Once a tuple is created, you cannot change its values. Tuples are unchangeable, or immutable as it also is called.\n",
    "\n",
    "But there is a workaround. You can convert the tuple into a list, change the list, and convert the list back into a tuple."
   ]
  },
  {
   "cell_type": "code",
   "execution_count": 43,
   "id": "21e19e99-2992-4571-95e9-d4b5b7256705",
   "metadata": {},
   "outputs": [
    {
     "name": "stdout",
     "output_type": "stream",
     "text": [
      "('apple', 'kiwi', 'cherry')\n"
     ]
    }
   ],
   "source": [
    "x = (\"apple\", \"banana\", \"cherry\")\n",
    "y = list(x)\n",
    "y[1] = \"kiwi\"\n",
    "x = tuple(y)\n",
    "\n",
    "print(x)\n"
   ]
  },
  {
   "cell_type": "markdown",
   "id": "3ac5c8ed-5473-43ca-816d-629e8d2a78e8",
   "metadata": {},
   "source": [
    "## Add items\n",
    "Since tuples are immutable, they do not have a built-in append() method, but there are other ways to add items to a tuple.\n",
    "\n",
    " 1.   Convert into a list: Just like the workaround for changing a tuple, you can convert it into a list, add your item(s), and convert it back into a tuple."
   ]
  },
  {
   "cell_type": "code",
   "execution_count": 48,
   "id": "9a291a90-7c3c-4aea-8038-6b38f962a2d3",
   "metadata": {},
   "outputs": [
    {
     "data": {
      "text/plain": [
       "2"
      ]
     },
     "execution_count": 48,
     "metadata": {},
     "output_type": "execute_result"
    }
   ],
   "source": [
    "thistuple = (\"apple\", \"banana\", \"cherry\")\n",
    "y = list(thistuple)\n",
    "y.append(\"orange\")\n",
    "thistuple = tuple(y)\n",
    "2"
   ]
  },
  {
   "cell_type": "markdown",
   "id": "0663f6d7-2c54-458e-a396-20f9915135c3",
   "metadata": {},
   "source": [
    "2. Add tuple to a tuple. You are allowed to add tuples to tuples, so if you want to add one item, (or many), create a new tuple with the item(s), and add it to the existing tuple:"
   ]
  },
  {
   "cell_type": "code",
   "execution_count": 55,
   "id": "bb2ac6c4-93e5-493d-8fc0-af991d8af00e",
   "metadata": {},
   "outputs": [
    {
     "name": "stdout",
     "output_type": "stream",
     "text": [
      "('apple', 'banana', 'cherry', 'orange')\n"
     ]
    }
   ],
   "source": [
    "thistuple = (\"apple\", \"banana\", \"cherry\")\n",
    "y = (\"orange\",)\n",
    "thistuple += y\n",
    "\n",
    "print(thistuple)"
   ]
  },
  {
   "cell_type": "markdown",
   "id": "e509728b-4e0d-4325-b855-6ca4717f896f",
   "metadata": {},
   "source": [
    "## Remove items\n",
    "Tuples are unchangeable, so you cannot remove items from it, but you can use the same workaround as we used for changing and adding tuple items:"
   ]
  },
  {
   "cell_type": "code",
   "execution_count": 58,
   "id": "45917344-2a32-48df-83c9-e0c40f95ca59",
   "metadata": {},
   "outputs": [
    {
     "name": "stdout",
     "output_type": "stream",
     "text": [
      "('banana', 'cherry')\n"
     ]
    }
   ],
   "source": [
    "thistuple = (\"apple\", \"banana\", \"cherry\")\n",
    "y = list(thistuple)\n",
    "y.remove(\"apple\")\n",
    "thistuple = tuple(y)\n",
    "\n",
    "print(thistuple)"
   ]
  },
  {
   "cell_type": "markdown",
   "id": "0d846171-0ad3-4d18-b215-6b34214b4b0a",
   "metadata": {},
   "source": [
    "# Tuple Methods\n",
    "- Python has two built-in methods that you can use on tuples.\n",
    "- Tuples have limited methods compared to list due to their immutability"
   ]
  },
  {
   "cell_type": "raw",
   "id": "c287647c-d13d-48f4-b817-22eb4d48662e",
   "metadata": {},
   "source": [
    "\n",
    "Method\t    Description\n",
    "'index' \tReturns the index of the first occurrence of a specified value.\n",
    "'count'\t    Returns the number of occurrences of a specified value in the tuple."
   ]
  },
  {
   "cell_type": "markdown",
   "id": "bce6a41d-8702-409e-8cf9-f68118458d37",
   "metadata": {},
   "source": [
    "### count( ):\n",
    "- Returns the number of occurances of a specified value\n",
    "- The count() method returns the number of times a specified value appears in the tuple."
   ]
  },
  {
   "cell_type": "markdown",
   "id": "f1b96abf-40a4-4e07-85c4-72f00d4c47cf",
   "metadata": {},
   "source": [
    "## Syntax\n",
    "tuple.count(value)"
   ]
  },
  {
   "cell_type": "code",
   "execution_count": 69,
   "id": "0fd2d046-bd8d-4eac-95c0-97c495ff9ff0",
   "metadata": {},
   "outputs": [
    {
     "name": "stdout",
     "output_type": "stream",
     "text": [
      "2\n"
     ]
    }
   ],
   "source": [
    "thistuple = (1, 3, 7, 8, 7, 5, 4, 6, 8, 5)\n",
    "x = thistuple.count(5)\n",
    "\n",
    "print(x)"
   ]
  },
  {
   "cell_type": "code",
   "execution_count": 71,
   "id": "099dd3ae-8ef7-4af2-b692-307c81d2d4e0",
   "metadata": {},
   "outputs": [
    {
     "name": "stdout",
     "output_type": "stream",
     "text": [
      "2\n"
     ]
    }
   ],
   "source": [
    "string_tuple = ('apple', 'banana', 'apple', 'cherry')\n",
    "count_of_apple = string_tuple.count('apple')\n",
    "print(count_of_apple)"
   ]
  },
  {
   "cell_type": "markdown",
   "id": "6c896b56-e45a-4566-aeda-3a62a001c5c6",
   "metadata": {},
   "source": [
    "## index( ):\n",
    "- The index() method finds the first occurrence of the specified value.\n",
    "- The index() method raises an exception if the value is not found.\n",
    "- Returns the index of the first occurance of a specified value.\n",
    "## Syntax\n",
    "- tuple.index(value)"
   ]
  },
  {
   "cell_type": "code",
   "execution_count": 74,
   "id": "f490e1c7-69a7-4533-9a05-f80d901099a8",
   "metadata": {},
   "outputs": [
    {
     "name": "stdout",
     "output_type": "stream",
     "text": [
      "3\n"
     ]
    }
   ],
   "source": [
    "thistuple = (1, 3, 7, 8, 7, 5, 4, 6, 8, 5)\n",
    "x = thistuple.index(8)\n",
    "\n",
    "print(x)"
   ]
  },
  {
   "cell_type": "code",
   "execution_count": 76,
   "id": "e1d5478c-fffd-41e2-8a3c-622fe4f0715f",
   "metadata": {},
   "outputs": [
    {
     "name": "stdout",
     "output_type": "stream",
     "text": [
      "6\n"
     ]
    }
   ],
   "source": [
    "numbers = (1,2,5,3,4,5,7)\n",
    "index_of_3 = numbers.index(7)\n",
    "print(index_of_3)"
   ]
  },
  {
   "cell_type": "code",
   "execution_count": null,
   "id": "d0a9e172-3c9a-4fb8-8cfe-cc8fe75f560d",
   "metadata": {},
   "outputs": [],
   "source": []
  }
 ],
 "metadata": {
  "kernelspec": {
   "display_name": "Python 3 (ipykernel)",
   "language": "python",
   "name": "python3"
  },
  "language_info": {
   "codemirror_mode": {
    "name": "ipython",
    "version": 3
   },
   "file_extension": ".py",
   "mimetype": "text/x-python",
   "name": "python",
   "nbconvert_exporter": "python",
   "pygments_lexer": "ipython3",
   "version": "3.12.4"
  }
 },
 "nbformat": 4,
 "nbformat_minor": 5
}
