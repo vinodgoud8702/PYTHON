{
 "cells": [
  {
   "cell_type": "markdown",
   "id": "735fb428-96ed-4c77-953a-3fea35710e3f",
   "metadata": {},
   "source": [
    "# PYTHON VARIABLES"
   ]
  },
  {
   "cell_type": "markdown",
   "id": "db259d67-4631-4c13-8dc5-4bd4d6fa8a41",
   "metadata": {},
   "source": [
    "- Python variables is containers that store values.\n",
    "- python is not \"statically typed.\n",
    "- Python uses dynamic typing, so you don’t need to declare the type of the variable beforehand.\n",
    "- You can create a variable by simply assigning a value to a name using the  '=' operator."
   ]
  },
  {
   "cell_type": "markdown",
   "id": "9a65b425-b45b-49a8-8160-d6733ff0c980",
   "metadata": {},
   "source": [
    "### RULES"
   ]
  },
  {
   "cell_type": "markdown",
   "id": "90a1084f-a749-4bad-91ff-7adca2987dfd",
   "metadata": {},
   "source": [
    "- The variable's first character must be an underscore or alphabet (_).\n",
    "- Every one of the characters with the exception of the main person might be a letter set of lower-case(a-z), capitalized (A-Z), highlight, or digit (0-9).\n",
    "- White space and special characters (!, @, #, %, etc.) are not allowed in the identifier name. ^, &, *).\n",
    "- Identifier name should not be like any watchword characterized in the language.\n",
    "- Names of identifiers are case-sensitive; for instance, my name, and MyName isn't something very similar.\n",
    "- Examples of valid identifiers: a123, _n, n_9, etc.\n",
    "- Examples of invalid identifiers: 1a, n%4, n 9, etc."
   ]
  },
  {
   "cell_type": "code",
   "execution_count": 16,
   "id": "c3e18c91-a246-4efd-93de-ade7fc80ecb5",
   "metadata": {},
   "outputs": [
    {
     "name": "stdout",
     "output_type": "stream",
     "text": [
      "5\n",
      "John\n",
      "19.99\n",
      "True\n"
     ]
    }
   ],
   "source": [
    "# EXAMPLE VALID VARIABLES\n",
    "x = 5          # An integer\n",
    "name = \"John\"  # A string\n",
    "price = 19.99  # A float\n",
    "is_active = True  # A boolean\n",
    "\n",
    "print(x)\n",
    "print(name)\n",
    "print(price)\n",
    "print(is_active)\n"
   ]
  },
  {
   "cell_type": "code",
   "execution_count": 18,
   "id": "dfc2455d-37c7-4da1-be27-2d0a7f33b8dc",
   "metadata": {},
   "outputs": [
    {
     "ename": "SyntaxError",
     "evalue": "invalid decimal literal (2320454895.py, line 3)",
     "output_type": "error",
     "traceback": [
      "\u001b[1;36m  Cell \u001b[1;32mIn[18], line 3\u001b[1;36m\u001b[0m\n\u001b[1;33m    1_name = \"vinod\"\u001b[0m\n\u001b[1;37m     ^\u001b[0m\n\u001b[1;31mSyntaxError\u001b[0m\u001b[1;31m:\u001b[0m invalid decimal literal\n"
     ]
    }
   ],
   "source": [
    "# EXAMPLES FOR INVALID VARAIABLES\n",
    "@X = 5\n",
    "1_name = \"vinod\"\n",
    "$price = 20.22\n",
    "is_active = false"
   ]
  },
  {
   "cell_type": "markdown",
   "id": "8e3ecc1b-6855-4891-8190-7cad0bb0238b",
   "metadata": {},
   "source": [
    "# multiple variable"
   ]
  },
  {
   "cell_type": "markdown",
   "id": "17ba9a81-8227-4276-af81-8f3af547c2ed",
   "metadata": {},
   "source": [
    "#### many values to multiple variables"
   ]
  },
  {
   "cell_type": "markdown",
   "id": "2b551358-304b-4509-b5b9-1691b37a9964",
   "metadata": {},
   "source": [
    "- Python allows you to assign values to multiple variables in one line:"
   ]
  },
  {
   "cell_type": "code",
   "execution_count": 16,
   "id": "6c179f50-850a-43e0-8961-1fdfcb328052",
   "metadata": {},
   "outputs": [
    {
     "name": "stdout",
     "output_type": "stream",
     "text": [
      "vinod\n",
      "pavan\n",
      "Cherry\n"
     ]
    }
   ],
   "source": [
    "x, y, z = \"vinod\", \"pavan\", \"Cherry\"\n",
    "print(x)\n",
    "print(y)\n",
    "print(z)"
   ]
  },
  {
   "cell_type": "markdown",
   "id": "a4ff43ef-fd37-422d-9d3e-70c1ce6924a2",
   "metadata": {},
   "source": [
    "#### one value to multiple variables"
   ]
  },
  {
   "cell_type": "markdown",
   "id": "c3291f1e-4420-443e-8c7b-34cd3881cc09",
   "metadata": {},
   "source": [
    "- And you can assign the same value to multiple variables in one line:\r\n"
   ]
  },
  {
   "cell_type": "code",
   "execution_count": 14,
   "id": "278ba4f9-d0ef-4adf-a886-b4e2b6812d5f",
   "metadata": {},
   "outputs": [
    {
     "name": "stdout",
     "output_type": "stream",
     "text": [
      "vinod\n",
      "vinod\n",
      "vinod\n"
     ]
    }
   ],
   "source": [
    "x = y = z = \"vinod\"\n",
    "print(x)\n",
    "print(y)\n",
    "print(z)"
   ]
  },
  {
   "cell_type": "code",
   "execution_count": null,
   "id": "5d6f98c6-9643-40a0-9a87-29c123fadd7c",
   "metadata": {},
   "outputs": [],
   "source": []
  }
 ],
 "metadata": {
  "kernelspec": {
   "display_name": "Python 3 (ipykernel)",
   "language": "python",
   "name": "python3"
  },
  "language_info": {
   "codemirror_mode": {
    "name": "ipython",
    "version": 3
   },
   "file_extension": ".py",
   "mimetype": "text/x-python",
   "name": "python",
   "nbconvert_exporter": "python",
   "pygments_lexer": "ipython3",
   "version": "3.12.4"
  }
 },
 "nbformat": 4,
 "nbformat_minor": 5
}
