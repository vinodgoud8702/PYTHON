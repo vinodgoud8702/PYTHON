{
 "cells": [
  {
   "cell_type": "markdown",
   "id": "3da3f2e8-e559-4dd1-806c-3242e9248481",
   "metadata": {},
   "source": [
    "# Control Statement"
   ]
  },
  {
   "cell_type": "markdown",
   "id": "415da755-7520-4857-9de8-b4e2c5330b2c",
   "metadata": {},
   "source": [
    "- In Python, control statements like pass, continue, and break are used to control the flow of execution within loops and conditional blocks.\n",
    "- Loop control statements change execution from their normal sequence.\n",
    "- When execution leaves a scope, all automatic objects that were created in that scope are destroyed. Python supports the following control statements.\n",
    "- They provide ways to control the execution of a loop or to handle certain situations.\n",
    "Here's an explanation of each, along with examples:\n",
    "\n",
    "#### 1. Pass Statement\n",
    "- We use pass statements to write empty loops. Pass is also used for empty control statements, functions, and classes.\n",
    "- The pass statement is a no-operation statement.\n",
    "- It is a placeholder where syntactically some code is required, but no action needs to be take\n",
    "- The pass statement is a placeholder that does nothing. It’s often used when a statement is syntactically required but you don’t want to execute any code.\n",
    "- It can be useful in scenarios where you are planning to implement functionality later or when defining minimal classes or functions."
   ]
  },
  {
   "cell_type": "code",
   "execution_count": 3,
   "id": "181ca9e4-4b5f-476d-8f38-e3ec38f0cbf6",
   "metadata": {},
   "outputs": [
    {
     "name": "stdout",
     "output_type": "stream",
     "text": [
      "0\n",
      "1\n",
      "2\n",
      "3\n",
      "4\n",
      "5\n",
      "7\n",
      "8\n",
      "9\n"
     ]
    }
   ],
   "source": [
    "#example\n",
    "for i in range(10): \n",
    "    if i == 6:\n",
    "        pass \n",
    "    else:\n",
    "        print(i)"
   ]
  },
  {
   "cell_type": "markdown",
   "id": "08583b1a-b26f-4e2d-b026-fa76820370ef",
   "metadata": {},
   "source": [
    "In this example, when i is equal to 3, the pass statement is executed, and the loop continues without doing anything.\n",
    "\n",
    "It is often used when a statement is syntactically required, but you want to skip its execution."
   ]
  },
  {
   "cell_type": "code",
   "execution_count": 9,
   "id": "dc77c10a-c06d-4680-820b-274497e04ef0",
   "metadata": {},
   "outputs": [
    {
     "name": "stdout",
     "output_type": "stream",
     "text": [
      "Last Letter : d\n"
     ]
    }
   ],
   "source": [
    "#example\n",
    "for letter in 'vinod':\n",
    "    pass\n",
    "print('Last Letter :', letter)"
   ]
  },
  {
   "cell_type": "markdown",
   "id": "df0381f2-d24a-4699-a363-ec3ce956dec3",
   "metadata": {},
   "source": [
    "#### 2.break Statement\n",
    "- The continue statement is used within a loop to skip the remaining code in the current iteration and proceed with the next iteration of the loop.\n",
    "- It effectively \"jumps\" to the next iteration of the loop.\n",
    "- The break statement is used to exit a loop prematurely.\n",
    "- When a break statement is encountered, the loop terminates immediately, and the control is transferred to the statement immediately following the loop."
   ]
  },
  {
   "cell_type": "code",
   "execution_count": 12,
   "id": "bc9a6fe2-adf1-461c-a899-3ffa30983fd3",
   "metadata": {},
   "outputs": [
    {
     "name": "stdout",
     "output_type": "stream",
     "text": [
      "0\n",
      "1\n",
      "2\n",
      "3\n",
      "4\n",
      "5\n",
      "6\n"
     ]
    }
   ],
   "source": [
    "#example\n",
    "a = []\n",
    "for i in range(10): \n",
    "    if i == 7:\n",
    "        break  \n",
    "    print(i)"
   ]
  },
  {
   "cell_type": "markdown",
   "id": "db80eae7-18f7-48a8-8e91-e04bd07367f9",
   "metadata": {},
   "source": [
    "In this example, the loop will print values from 0 to 4. When i becomes 5, the break statement is encountered, and the loop is terminated."
   ]
  },
  {
   "cell_type": "code",
   "execution_count": 15,
   "id": "f618e111-a570-4844-b725-414e50482aee",
   "metadata": {},
   "outputs": [
    {
     "name": "stdout",
     "output_type": "stream",
     "text": [
      "Current Letter : v\n"
     ]
    }
   ],
   "source": [
    "#example\n",
    "for letter in 'vinod goud':\n",
    " \n",
    "    if letter == 'v' or letter == 'g':\n",
    "        break\n",
    "print('Current Letter :',letter)"
   ]
  },
  {
   "cell_type": "code",
   "execution_count": 17,
   "id": "c6da88b5-140e-47e3-bb4e-9fca2f86bd52",
   "metadata": {},
   "outputs": [
    {
     "name": "stdout",
     "output_type": "stream",
     "text": [
      "0\n",
      "1\n",
      "2\n",
      "3\n"
     ]
    }
   ],
   "source": [
    "#example\n",
    "a = []\n",
    "for i in range(30):\n",
    "    if i == 4 or i == 16:\n",
    "        break\n",
    "    print(i)"
   ]
  },
  {
   "cell_type": "markdown",
   "id": "f085ed4c-24a0-4376-8cb5-4317d0000ecf",
   "metadata": {},
   "source": [
    "#### 3. continue Statement\n",
    "- The continue statement is used to skip the rest of the code inside a loop for the current iteration and move to the next iteration.\n",
    "- It returns the control to the beginning of the loop."
   ]
  },
  {
   "cell_type": "code",
   "execution_count": 20,
   "id": "d9aee617-a644-42f0-a48e-8a98e7221fff",
   "metadata": {},
   "outputs": [
    {
     "name": "stdout",
     "output_type": "stream",
     "text": [
      "0\n",
      "1\n",
      "2\n",
      "3\n",
      "4\n",
      "5\n",
      "6\n",
      "8\n",
      "9\n",
      "10\n",
      "11\n",
      "12\n",
      "13\n",
      "14\n"
     ]
    }
   ],
   "source": [
    "#example\n",
    "for i in range(15):\n",
    "    if i == 7:\n",
    "        continue  \n",
    "    else:\n",
    "        print(i)"
   ]
  },
  {
   "cell_type": "markdown",
   "id": "ea653fb5-5c95-4fb1-ac24-8799645ccc96",
   "metadata": {},
   "source": [
    "In this example, the loop will print values from 0 to 4, skipping the printing step when i is equal to 2 due to the continue statement."
   ]
  },
  {
   "cell_type": "code",
   "execution_count": 35,
   "id": "827b44e2-d0d0-4b5f-80d8-50423081ab33",
   "metadata": {},
   "outputs": [
    {
     "name": "stdout",
     "output_type": "stream",
     "text": [
      "Full Name : h\n",
      "Full Name : e\n",
      "Full Name : m\n",
      "Full Name : a\n",
      "Full Name : s\n",
      "Full Name : r\n",
      "Full Name : i\n"
     ]
    }
   ],
   "source": [
    "#example\n",
    "for letter in 'hemnasriw':\n",
    "    if letter == 'n' or letter == 'w':\n",
    "        continue\n",
    "    print('Full Name :', letter)"
   ]
  },
  {
   "cell_type": "code",
   "execution_count": null,
   "id": "7d721f61-34cd-42cd-82eb-4870555107a1",
   "metadata": {},
   "outputs": [],
   "source": []
  }
 ],
 "metadata": {
  "kernelspec": {
   "display_name": "Python 3 (ipykernel)",
   "language": "python",
   "name": "python3"
  },
  "language_info": {
   "codemirror_mode": {
    "name": "ipython",
    "version": 3
   },
   "file_extension": ".py",
   "mimetype": "text/x-python",
   "name": "python",
   "nbconvert_exporter": "python",
   "pygments_lexer": "ipython3",
   "version": "3.12.4"
  }
 },
 "nbformat": 4,
 "nbformat_minor": 5
}
