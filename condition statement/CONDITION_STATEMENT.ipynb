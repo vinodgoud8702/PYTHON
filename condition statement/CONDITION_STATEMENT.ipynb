{
 "cells": [
  {
   "cell_type": "markdown",
   "id": "f6ae0a02-c884-4665-8475-30f4b8588960",
   "metadata": {},
   "source": [
    "#  Python Conditions Statements"
   ]
  },
  {
   "cell_type": "markdown",
   "id": "9aa19e44-7f45-4792-a19f-939a8640974a",
   "metadata": {},
   "source": [
    " In Python, conditional statements are used to control the flow of a program based on certain\n",
    " conditions."
   ]
  },
  {
   "cell_type": "markdown",
   "id": "08479455-771f-4a11-b537-155ff536a890",
   "metadata": {},
   "source": [
    "-  The if, else, and elif (short for \"else if\") keywords are used for creating conditional structures."
   ]
  },
  {
   "cell_type": "markdown",
   "id": "d7cdddcf-20a7-40f0-b123-f9fbeecc8cd4",
   "metadata": {},
   "source": [
    "##  1) Python if Statement"
   ]
  },
  {
   "cell_type": "markdown",
   "id": "6eaf12b5-4e9b-4ff5-9efb-95fbb9da7aef",
   "metadata": {},
   "source": [
    "\n",
    "# if condition:\n",
    "    #code to execute if condition is true\n",
    "- The condition can be any expression that evaluates to a Boolean value (True or False).\n",
    "- If the condition is True, the code block indented below the if statement will be executed.\n",
    "- If the condition is False, the code block will be skipped.\n",
    "\n",
    "- Here's an example of how to use an if statement to check if a number is positive:\n",
    "\n"
   ]
  },
  {
   "cell_type": "code",
   "execution_count": 18,
   "id": "d0731f1e-5e0f-4602-accd-bfaa69ed6f31",
   "metadata": {},
   "outputs": [
    {
     "name": "stdout",
     "output_type": "stream",
     "text": [
      "positive number\n"
     ]
    }
   ],
   "source": [
    "#example\n",
    "number = 43\n",
    "if number > 0:\n",
    "    print(\"positive number\")\n",
    "\n"
   ]
  },
  {
   "cell_type": "code",
   "execution_count": 7,
   "id": "151419a3-b0b9-4862-8a9b-4ce53fea371c",
   "metadata": {},
   "outputs": [
    {
     "name": "stdout",
     "output_type": "stream",
     "text": [
      "The number is positive.\n"
     ]
    }
   ],
   "source": [
    "num = 10\n",
    "\n",
    "if num > 0:\n",
    "    print(\"The number is positive.\")\n",
    "    "
   ]
  },
  {
   "cell_type": "code",
   "execution_count": 3,
   "id": "b11212e2-9f98-421b-b291-80fd649d6aeb",
   "metadata": {},
   "outputs": [
    {
     "name": "stdout",
     "output_type": "stream",
     "text": [
      "price*quantity is less than 500\n",
      "price =  50\n",
      "quantity =  5\n"
     ]
    }
   ],
   "source": [
    "price = 50\n",
    "quantity = 5\n",
    "\n",
    "if price*quantity < 500:\n",
    "    print(\"price*quantity is less than 500\")\n",
    "    print(\"price = \", price)\n",
    "    print(\"quantity = \", quantity)"
   ]
  },
  {
   "cell_type": "markdown",
   "id": "3b7b0e9c-daa3-4936-bd00-4024d90b20fa",
   "metadata": {},
   "source": [
    "## 2. Python else Statement\n",
    "\n",
    "- The else statement allows you to execute a different block of code if the if condition is False.d.ped"
   ]
  },
  {
   "attachments": {
    "6dd48723-10dc-4eb7-829d-e2ec1dcd31ba.png": {
     "image/png": "[encoded data removed]"
    }
   },
   "cell_type": "markdown",
   "id": "52375b22-fa04-4001-a445-ea91a289736f",
   "metadata": {},
   "source": [
    "![image.png](attachment:6dd48723-10dc-4eb7-829d-e2ec1dcd31ba.png)"
   ]
  },
  {
   "cell_type": "code",
   "execution_count": null,
   "id": "9fa2954a-5e98-40c6-9fba-90ed210bcb9d",
   "metadata": {},
   "outputs": [],
   "source": [
    "#### Syntax\n",
    "\n",
    "if condition:\n",
    "    # code to execute if condition is true\n",
    "else:\n",
    "    # code to execute if condition is false\n",
    "    "
   ]
  },
  {
   "cell_type": "markdown",
   "id": "acfecef0-6317-49a8-91ae-d94bfc7a9495",
   "metadata": {},
   "source": [
    "- If the condition is True, the code block indented below the if statement will be executed, and the code block indented below the else statement will be skipped.\n",
    "\n",
    "- If the condition is False, the code block indented below the else statement will be executed, and the code block indented below the if statement will be skipped."
   ]
  },
  {
   "cell_type": "code",
   "execution_count": 31,
   "id": "691315aa-9682-4df4-a7ec-1bd56e008010",
   "metadata": {},
   "outputs": [
    {
     "name": "stdout",
     "output_type": "stream",
     "text": [
      "Positive number\n"
     ]
    }
   ],
   "source": [
    "#example\n",
    "number = 20\n",
    "\n",
    "if number > 0:\n",
    "    print('Positive number')\n",
    "\n",
    "else:\n",
    "    print('Negative number')"
   ]
  },
  {
   "cell_type": "code",
   "execution_count": 5,
   "id": "dcd0e0b5-f608-47ee-b484-745bf9f5a433",
   "metadata": {},
   "outputs": [
    {
     "name": "stdout",
     "output_type": "stream",
     "text": [
      "price is less than 100\n"
     ]
    }
   ],
   "source": [
    "price = 50\n",
    "\n",
    "if price >= 100:\n",
    "    print(\"price is greater than 100\")\n",
    "else:\n",
    "    print(\"price is less than 100\")"
   ]
  },
  {
   "cell_type": "code",
   "execution_count": 7,
   "id": "080fde5f-093c-4283-92bf-68ced172756d",
   "metadata": {},
   "outputs": [
    {
     "name": "stdin",
     "output_type": "stream",
     "text": [
      "Enter password  PYnativw@#29\n"
     ]
    },
    {
     "name": "stdout",
     "output_type": "stream",
     "text": [
      "Incorrect Password\n"
     ]
    }
   ],
   "source": [
    "password = input('Enter password ')\n",
    "\n",
    "if password == \"PYnative@#29\":\n",
    "    print(\"Correct password\")\n",
    "else:\n",
    "    print(\"Incorrect Password\")"
   ]
  },
  {
   "cell_type": "markdown",
   "id": "3624dd7c-d56c-4ae5-906f-4f77d16bde11",
   "metadata": {},
   "source": [
    "# Python elif condition"
   ]
  },
  {
   "cell_type": "markdown",
   "id": "9df54082-7373-4440-bb68-b66fefb92c3c",
   "metadata": {},
   "source": [
    "- The elif statement allows you to check multiple conditions in sequence, and execute different code blocks depending on which condition is true."
   ]
  },
  {
   "cell_type": "code",
   "execution_count": null,
   "id": "bcb5c4b7-f825-46ca-81b8-ceeb1ef9cfd5",
   "metadata": {},
   "outputs": [],
   "source": [
    "#syntax\n",
    "if condition1:\n",
    "    # code to execute if condition1 is true\n",
    "elif condition2:\n",
    "    # code to execute if condition1 is false and condition2 is true\n",
    "elif condition3:\n",
    "    # code to execute if condition1 and condition2 are false, and condition3 is true\n",
    "else:\n",
    "    # code to execute if all conditions are false"
   ]
  },
  {
   "cell_type": "markdown",
   "id": "4b8149a2-d4ec-4484-9137-a784f1da76f9",
   "metadata": {},
   "source": [
    "##### 1) Static type input: intital assgin by developer or code writer\n",
    "##### 2) Dymanic type input: inputs enter by user"
   ]
  },
  {
   "cell_type": "code",
   "execution_count": 28,
   "id": "1239a387-40e7-48f5-a4b3-9e0cf2f4f527",
   "metadata": {},
   "outputs": [
    {
     "name": "stdin",
     "output_type": "stream",
     "text": [
      "Enter your lucky number:  10\n"
     ]
    },
    {
     "name": "stdout",
     "output_type": "stream",
     "text": [
      "your lucky number is Positive\n"
     ]
    }
   ],
   "source": [
    "number = int(input(\"Enter your lucky number: \")) #number you to mention int()\n",
    "\n",
    "if number > 0:\n",
    "    print(\"your lucky number is Positive\")\n",
    "elif number < 0:\n",
    "    print(\"your lucky is negative\")\n",
    "else:\n",
    "    print(\"your lucky number is Zero\")"
   ]
  },
  {
   "cell_type": "code",
   "execution_count": 17,
   "id": "cd839b2c-b9c9-40d0-9d51-5311878e8700",
   "metadata": {},
   "outputs": [
    {
     "name": "stdout",
     "output_type": "stream",
     "text": [
      "x is less than 10!\n"
     ]
    }
   ],
   "source": [
    "x = 1\n",
    "\n",
    "if x > 10:\n",
    "    print(\" x is greater than 10!\")\n",
    "elif x < 10:\n",
    "      print(\"x is less than 10!\")\n",
    "elif x < 20 :\n",
    "      print(\"x is less than 20!\")\n",
    "else:\n",
    "     print(\"x is equal to 10\")"
   ]
  },
  {
   "cell_type": "code",
   "execution_count": 33,
   "id": "2d15bee6-8b5e-4955-a7f4-c85b28a1d14a",
   "metadata": {},
   "outputs": [
    {
     "name": "stdin",
     "output_type": "stream",
     "text": [
      "ENTER YOUR MARKS :-  99\n"
     ]
    },
    {
     "name": "stdout",
     "output_type": "stream",
     "text": [
      "grade A\n"
     ]
    }
   ],
   "source": [
    "marks = int(input(\"ENTER YOUR MARKS :- \"))\n",
    "\n",
    "if marks > 90:\n",
    "    print(\"grade A\")\n",
    "elif marks <= 89 and marks > 80:\n",
    "    print(\"grade B\")\n",
    "elif marks <= 79 and marks > 70:\n",
    "    print(\"grade C\")\n",
    "elif marks <= 69 and marks > 60:\n",
    "    print(\"grade D\")\n",
    "elif marks <= 59 and marks > 50:\n",
    "    print(\"grade E\")\n",
    "else:\n",
    "    print(\"fail\")\n"
   ]
  },
  {
   "cell_type": "markdown",
   "id": "88fc4695-50c3-4e80-ba3f-3110c4a89c9e",
   "metadata": {},
   "source": [
    "# EXAMPLES"
   ]
  },
  {
   "cell_type": "code",
   "execution_count": 53,
   "id": "4928c35c-80a3-4b9a-a396-1d6c2460e437",
   "metadata": {},
   "outputs": [
    {
     "name": "stdout",
     "output_type": "stream",
     "text": [
      "YOU CAN VOTE\n"
     ]
    }
   ],
   "source": [
    "# voting system\n",
    "age = 24\n",
    "if age >= 18:\n",
    "    print(\"YOU CAN VOTE\")\n",
    "else:\n",
    "    print(\"YOU CANNOT VOTE\")"
   ]
  },
  {
   "cell_type": "code",
   "execution_count": 65,
   "id": "b29fa072-20a6-4c60-99a1-1054b05fcb58",
   "metadata": {},
   "outputs": [
    {
     "name": "stdin",
     "output_type": "stream",
     "text": [
      "ENTER YOUR AGE:  7\n"
     ]
    },
    {
     "name": "stdout",
     "output_type": "stream",
     "text": [
      "SCHOOLING AGE\n"
     ]
    }
   ],
   "source": [
    "# Get input from the user\n",
    "age = int(input(\"ENTER YOUR AGE: \"))\n",
    "\n",
    "# Determine education stage based on age\n",
    "if age <= 16:\n",
    "    print(\"SCHOOLING AGE\")\n",
    "elif 17 <= age <= 25:\n",
    "    print(\"COLLEGE AGE\")\n",
    "else:\n",
    "    print(\"JOB AGE\")\n"
   ]
  },
  {
   "cell_type": "code",
   "execution_count": 3,
   "id": "d97c8b84-dbb9-419b-b391-f27c96d68db1",
   "metadata": {},
   "outputs": [
    {
     "name": "stdin",
     "output_type": "stream",
     "text": [
      "ENTER YOUR MARKS :-  86\n"
     ]
    },
    {
     "name": "stdout",
     "output_type": "stream",
     "text": [
      "grade B\n"
     ]
    }
   ],
   "source": [
    "#grading using user marks\n",
    "marks = int(input(\"ENTER YOUR MARKS :- \"))\n",
    "\n",
    "if marks > 90:\n",
    "    print(\"grade A\")\n",
    "elif marks <= 89 and marks > 80:\n",
    "    print(\"grade B\")\n",
    "elif marks <= 79 and marks > 70:\n",
    "    print(\"grade C\")\n",
    "elif marks <= 69 and marks > 60:\n",
    "    print(\"grade D\")\n",
    "elif marks <= 59 and marks > 50:\n",
    "    print(\"grade E\")\n",
    "else:\n",
    "    print(\"fail\")\n"
   ]
  },
  {
   "cell_type": "code",
   "execution_count": 40,
   "id": "177be099-d251-4502-917a-52106f14d3cd",
   "metadata": {},
   "outputs": [
    {
     "name": "stdin",
     "output_type": "stream",
     "text": [
      "enter a number:-  33\n"
     ]
    },
    {
     "name": "stdout",
     "output_type": "stream",
     "text": [
      "its odd\n"
     ]
    }
   ],
   "source": [
    "# even or odd\n",
    "number = int(input(\"enter a number:- \"))\n",
    "if number == 0 :\n",
    "    print(\"its even \")\n",
    "elif number %2 ==0:\n",
    "    print(\"its even\")\n",
    "else:\n",
    "    print(\"its odd\")\n",
    "    "
   ]
  },
  {
   "cell_type": "code",
   "execution_count": 61,
   "id": "3a46d08a-7354-46f9-b331-d7ea269f618f",
   "metadata": {},
   "outputs": [
    {
     "name": "stdin",
     "output_type": "stream",
     "text": [
      "Enter the total amount:  15000\n"
     ]
    },
    {
     "name": "stdout",
     "output_type": "stream",
     "text": [
      "Payable amount: 12000.0\n"
     ]
    }
   ],
   "source": [
    "# Get input from the user\n",
    "amount = int(input(\"Enter the total amount: \"))\n",
    "                   \n",
    "if amount > 10000:\n",
    "    discount = amount * 20 / 100\n",
    "elif amount > 5000:\n",
    "    discount = amount * 10 / 100\n",
    "elif amount > 1000:\n",
    "    discount = amount * 5 / 100\n",
    "else:\n",
    "    discount = 0\n",
    "\n",
    "payable_amount = amount - discount\n",
    "print(\"Payable amount:\", payable_amount)\n"
   ]
  },
  {
   "cell_type": "markdown",
   "id": "bfc75a53-ac7e-4265-91c4-da696ec646ae",
   "metadata": {},
   "source": [
    "# practice -1 "
   ]
  },
  {
   "cell_type": "markdown",
   "id": "0b74e451-9eac-4270-b11e-2f108bac2c2b",
   "metadata": {},
   "source": [
    "# Restaurent orders"
   ]
  },
  {
   "cell_type": "code",
   "execution_count": 38,
   "id": "315340d9-928f-4347-9d93-c85f71304293",
   "metadata": {},
   "outputs": [
    {
     "name": "stdin",
     "output_type": "stream",
     "text": [
      "enter your order :-  veg-biryani\n"
     ]
    },
    {
     "name": "stdout",
     "output_type": "stream",
     "text": [
      "veg-biryani your order successfully placed , please wait for surve!\n"
     ]
    }
   ],
   "source": [
    "#restaurent orders\n",
    "order = input(\"enter your order :- \")\n",
    "veg = [\"veg-biryani\",\"panner-butter-masala\",\"noodles\",\"chapathi\",\"curd-rice\"]\n",
    "non_veg = [\"chicken-biryani\",\"chicken-curry\",\"chicken-noodles\",\"mutton-biryani\",\"mutton-curry\"]\n",
    "\n",
    "if order in veg:\n",
    "    print(order ,\"your order successfully placed , please wait for surve!\")\n",
    "elif order in non_veg:\n",
    "    print(order,\"your order successfully placed, please wait for surve\")\n",
    "else:\n",
    "    print(\"item currently not available\")"
   ]
  },
  {
   "cell_type": "markdown",
   "id": "e2e4fcba-21fb-4492-9271-a7f4288621ea",
   "metadata": {},
   "source": [
    "# Numbers from  1 to 10 and their shapes"
   ]
  },
  {
   "cell_type": "code",
   "execution_count": 42,
   "id": "835c525e-4972-41a2-bb7f-d5fd927da57d",
   "metadata": {},
   "outputs": [
    {
     "name": "stdin",
     "output_type": "stream",
     "text": [
      "enter number :- 1\n"
     ]
    },
    {
     "name": "stdout",
     "output_type": "stream",
     "text": [
      "line\n"
     ]
    }
   ],
   "source": [
    "#numbers from  1 to 10 and their shapes\n",
    "number = int(input(\"enter number :-\"))\n",
    "if number == 1:\n",
    "    print(\"line\")\n",
    "elif number ==2:\n",
    "    print(\"circle\")\n",
    "elif number ==3:\n",
    "    print(\"triangle\")\n",
    "elif number ==4:\n",
    "    print(\"square\")\n",
    "elif number==5:\n",
    "    print(\"pentagone\")\n",
    "elif number == 6:\n",
    "    print(\"hexagone\")\n",
    "elif number==7:\n",
    "    print(\"septgone\")\n",
    "elif number==8:\n",
    "    print(\"octagone\")\n",
    "elif number==9:\n",
    "    print(\"nanagone\")\n",
    "elif number==10:\n",
    "    print(\"decagone\")\n",
    "else:\n",
    " print(\"not available\")\n",
    "    "
   ]
  },
  {
   "cell_type": "markdown",
   "id": "298da97c-65dc-4ddd-b75d-c10814ab904f",
   "metadata": {},
   "source": [
    "# Months and their days"
   ]
  },
  {
   "cell_type": "code",
   "execution_count": 46,
   "id": "7299174e-8f5b-4b93-ac67-8541e15f1634",
   "metadata": {},
   "outputs": [
    {
     "name": "stdin",
     "output_type": "stream",
     "text": [
      "enter month:- jan\n"
     ]
    },
    {
     "name": "stdout",
     "output_type": "stream",
     "text": [
      "31days\n"
     ]
    }
   ],
   "source": [
    "#months and their days\n",
    "month = input(\"enter month:-\")\n",
    "_31_days = [\"jan\",\"march\",\"may\",\"july\",\"aug\",\"oct\",\"dec\"]\n",
    "_30_days = [\"april\",\"june\",\"sep\",\"nov\"]\n",
    "_28_days = \"feb\"\n",
    "if month in  _31_days:\n",
    "    print(\"31days\")\n",
    "elif month in _30_days:\n",
    "    print(\"30days\")\n",
    "else:\n",
    "    print(\"28 days\")"
   ]
  },
  {
   "cell_type": "markdown",
   "id": "9deae204-fb09-4eee-b500-b8798c9a7488",
   "metadata": {},
   "source": [
    "# Simple python code to check whether its a leap year or not "
   ]
  },
  {
   "cell_type": "code",
   "execution_count": 50,
   "id": "cb3d2b16-1a28-4816-954b-73383a4abdd0",
   "metadata": {},
   "outputs": [
    {
     "name": "stdin",
     "output_type": "stream",
     "text": [
      "enter year:-  9999\n"
     ]
    },
    {
     "name": "stdout",
     "output_type": "stream",
     "text": [
      "its not a leap year\n"
     ]
    }
   ],
   "source": [
    "#simple python code to check whether its a leap year or not \n",
    "year = int(input(\"enter year:- \"))\n",
    "\n",
    "if year %4==0:\n",
    "    print(\"its a leap yaer\")\n",
    "else:\n",
    "    print(\"its not a leap year\")"
   ]
  },
  {
   "cell_type": "markdown",
   "id": "7ca19d63-ecba-45b6-b2c1-2584a2728a70",
   "metadata": {},
   "source": [
    "# Maximun number in a 3 numbers"
   ]
  },
  {
   "cell_type": "code",
   "execution_count": 54,
   "id": "d6531c06-5445-44df-9baa-ba2c4ad396ce",
   "metadata": {},
   "outputs": [
    {
     "name": "stdin",
     "output_type": "stream",
     "text": [
      "enter 1st number:-  1\n",
      "enter 2nd number:-  1\n",
      "enter 3rd number:-  1\n"
     ]
    },
    {
     "name": "stdout",
     "output_type": "stream",
     "text": [
      "1 C is grteater\n"
     ]
    }
   ],
   "source": [
    "# maximun number in a 3 numbers\n",
    "A = int(input(\"enter 1st number:- \"))\n",
    "B = int(input(\"enter 2nd number:- \"))\n",
    "C = int(input(\"enter 3rd number:- \"))\n",
    "if A > B and A > C :\n",
    "    print(A,\"A is greater\")\n",
    "elif B > C and B > A:\n",
    "    print(B,\"B is greater\")\n",
    "else:\n",
    "    print(C,\"C is grteater\")"
   ]
  },
  {
   "cell_type": "markdown",
   "id": "7db1b5c2-78ef-4c3f-984b-ef6b1ea58c8f",
   "metadata": {},
   "source": [
    "# Traffic signals"
   ]
  },
  {
   "cell_type": "code",
   "execution_count": 58,
   "id": "514ef1b1-0bb1-47bf-9555-cb4291223c32",
   "metadata": {},
   "outputs": [
    {
     "name": "stdin",
     "output_type": "stream",
     "text": [
      "enter a color red\n"
     ]
    },
    {
     "name": "stdout",
     "output_type": "stream",
     "text": [
      "stop\n"
     ]
    }
   ],
   "source": [
    "#traffic signals\n",
    "color = input(\"enter a color\")\n",
    "\n",
    "if color == \"red\":\n",
    "    print(\"stop\")\n",
    "elif color == \"orange\":\n",
    "    print(\"ready\")\n",
    "elif color == \"green\":\n",
    "    print(\"go\")\n",
    "else:\n",
    "    print(\"invalid input\")"
   ]
  },
  {
   "cell_type": "markdown",
   "id": "8efea4a6-24d9-42ec-971a-720afa7ea5f9",
   "metadata": {},
   "source": [
    "# Vowels and consonants"
   ]
  },
  {
   "cell_type": "code",
   "execution_count": 62,
   "id": "d5f20a6b-38b8-4535-a2a2-7cdd99c35d7c",
   "metadata": {},
   "outputs": [
    {
     "name": "stdin",
     "output_type": "stream",
     "text": [
      "enter alphabet:-  a\n"
     ]
    },
    {
     "name": "stdout",
     "output_type": "stream",
     "text": [
      "a vowel\n"
     ]
    }
   ],
   "source": [
    "#vowels and consonants\n",
    "alphabet= input(\"enter alphabet:- \")\n",
    "vowels = [\"a\",\"e\",\"i\",\"o\",\"u\"]\n",
    "if alphabet in vowels:\n",
    "    print(alphabet, \"vowel\")\n",
    "else:\n",
    "    print(alphabet,\"consonant\")"
   ]
  },
  {
   "cell_type": "markdown",
   "id": "9ac528cd-02ee-4d31-90dd-218f0837fd90",
   "metadata": {},
   "source": [
    "# String reverse "
   ]
  },
  {
   "cell_type": "code",
   "execution_count": 66,
   "id": "4d7cab01-18d8-4f7f-8055-dfa74ac4f702",
   "metadata": {},
   "outputs": [
    {
     "name": "stdin",
     "output_type": "stream",
     "text": [
      "enter sentence:-  vinopd\n"
     ]
    },
    {
     "name": "stdout",
     "output_type": "stream",
     "text": [
      "dponiv\n"
     ]
    }
   ],
   "source": [
    "#string reverse\n",
    "sentence = input(\"enter sentence:- \")\n",
    "print(sentence[::-1])"
   ]
  },
  {
   "cell_type": "markdown",
   "id": "995fb7ab-2a81-48bc-9417-3607fb059ede",
   "metadata": {},
   "source": [
    "# Python code to remove dublicates in a list"
   ]
  },
  {
   "cell_type": "code",
   "execution_count": 70,
   "id": "b190fc1d-190d-4e3f-9a17-24ba65123b44",
   "metadata": {},
   "outputs": [
    {
     "name": "stdin",
     "output_type": "stream",
     "text": [
      "enter a list of numbers :-  76re5765\n"
     ]
    },
    {
     "name": "stdout",
     "output_type": "stream",
     "text": [
      "list[{'6', '7', 'r', '5', 'e'}]\n"
     ]
    }
   ],
   "source": [
    "#python code to remove dublicates in a list\n",
    "A = input(\"enter a list of numbers :- \")\n",
    "B = list[set(A)]\n",
    "\n",
    "print(B)\n"
   ]
  },
  {
   "cell_type": "markdown",
   "id": "b0cd0df1-3107-4212-8076-ea2bf3df0175",
   "metadata": {},
   "source": [
    "# Python code to swap two numbers"
   ]
  },
  {
   "cell_type": "code",
   "execution_count": 74,
   "id": "6b846dda-2d8e-4c5a-9bcb-6c87e469081f",
   "metadata": {},
   "outputs": [
    {
     "name": "stdin",
     "output_type": "stream",
     "text": [
      "enter A number :-  7\n",
      "enter B number :-  9\n"
     ]
    },
    {
     "name": "stdout",
     "output_type": "stream",
     "text": [
      "After Swapping: A: 9 B: 7\n"
     ]
    }
   ],
   "source": [
    "# python code to swap two numbers\n",
    "A = int(input(\"enter A number :- \"))\n",
    "B = int(input(\"enter B number :- \"))\n",
    "A,B=B,A\n",
    "print(\"After Swapping:\",\"A:\",A,\"B:\",B)"
   ]
  },
  {
   "cell_type": "code",
   "execution_count": null,
   "id": "f75d3666-82df-4bbc-81ac-36a1274441f7",
   "metadata": {},
   "outputs": [],
   "source": []
  }
 ],
 "metadata": {
  "kernelspec": {
   "display_name": "Python 3 (ipykernel)",
   "language": "python",
   "name": "python3"
  },
  "language_info": {
   "codemirror_mode": {
    "name": "ipython",
    "version": 3
   },
   "file_extension": ".py",
   "mimetype": "text/x-python",
   "name": "python",
   "nbconvert_exporter": "python",
   "pygments_lexer": "ipython3",
   "version": "3.12.4"
  }
 },
 "nbformat": 4,
 "nbformat_minor": 5
}
