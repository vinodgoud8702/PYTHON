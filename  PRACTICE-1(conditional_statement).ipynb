{
 "cells": [
  {
   "cell_type": "markdown",
   "id": "e8b71de2-3968-4f38-af18-0c0850d2eeb4",
   "metadata": {},
   "source": [
    "# Restaurent orders"
   ]
  },
  {
   "cell_type": "code",
   "execution_count": 15,
   "id": "cea5f4f7-2d7b-4aaf-a1ed-33a3acec2ed6",
   "metadata": {},
   "outputs": [
    {
     "name": "stdin",
     "output_type": "stream",
     "text": [
      "enter your order :-  chicken-biryani\n"
     ]
    },
    {
     "name": "stdout",
     "output_type": "stream",
     "text": [
      "chicken-biryani your order successfully placed, please wait for surve\n"
     ]
    }
   ],
   "source": [
    "#restaurent orders\n",
    "order = input(\"enter your order :- \")\n",
    "veg = [\"veg-biryani\",\"panner-butter-masala\",\"noodles\",\"chapathi\",\"curd-rice\"]\n",
    "non_veg = [\"chicken-biryani\",\"chicken-curry\",\"chicken-noodles\",\"mutton-biryani\",\"mutton-curry\"]\n",
    "\n",
    "if order in veg:\n",
    "    print(order ,\"your order successfully placed , please wait for surve!\")\n",
    "elif order in non_veg:\n",
    "    print(order,\"your order successfully placed, please wait for surve\")\n",
    "else:\n",
    "    print(\"item currently not available\")"
   ]
  },
  {
   "cell_type": "markdown",
   "id": "31a18e68-9430-418c-b2ac-2b1dd31dc53c",
   "metadata": {},
   "source": [
    "# Numbers from  1 to 10 and their shapes"
   ]
  },
  {
   "cell_type": "code",
   "execution_count": 16,
   "id": "fd1df5c0-a135-4158-a6b9-363116d913ba",
   "metadata": {},
   "outputs": [
    {
     "name": "stdin",
     "output_type": "stream",
     "text": [
      "enter number :- 10\n"
     ]
    },
    {
     "name": "stdout",
     "output_type": "stream",
     "text": [
      "decagone\n"
     ]
    }
   ],
   "source": [
    "#numbers from  1 to 10 and their shapes\n",
    "number = int(input(\"enter number :-\"))\n",
    "if number == 1:\n",
    "    print(\"line\")\n",
    "elif number ==2:\n",
    "    print(\"circle\")\n",
    "elif number ==3:\n",
    "    print(\"triangle\")\n",
    "elif number ==4:\n",
    "    print(\"square\")\n",
    "elif number==5:\n",
    "    print(\"pentagone\")\n",
    "elif number == 6:\n",
    "    print(\"hexagone\")\n",
    "elif number==7:\n",
    "    print(\"septgone\")\n",
    "elif number==8:\n",
    "    print(\"octagone\")\n",
    "elif number==9:\n",
    "    print(\"nanagone\")\n",
    "elif number==10:\n",
    "    print(\"decagone\")\n",
    "else:\n",
    " print(\"not available\")\n",
    "    "
   ]
  },
  {
   "cell_type": "markdown",
   "id": "526ac1b5-0330-4421-9e31-5a6e52576909",
   "metadata": {},
   "source": [
    "# Months and their days"
   ]
  },
  {
   "cell_type": "code",
   "execution_count": null,
   "id": "aab005b7-b103-40fa-9cfd-7722d2c3fe4e",
   "metadata": {},
   "outputs": [],
   "source": [
    "#months and their days\n",
    "month = input(\"enter month:-\")\n",
    "_31_days = [\"jan\",\"march\",\"may\",\"july\",\"aug\",\"oct\",\"dec\"]\n",
    "_30_days = [\"april\",\"june\",\"sep\",\"nov\"]\n",
    "_28_days = \"feb\"\n",
    "if month in  _31_days:\n",
    "    print(\"31days\")\n",
    "elif month in _30_days:\n",
    "    print(\"30days\")\n",
    "else:\n",
    "    print(\"28 days\")"
   ]
  },
  {
   "cell_type": "markdown",
   "id": "f5330d1b-cb66-4674-a2c6-10b3b09af667",
   "metadata": {},
   "source": [
    "# Simple python code to check whether its a leap year or not "
   ]
  },
  {
   "cell_type": "code",
   "execution_count": 6,
   "id": "bcde9e3d-72ca-4e5a-b45c-f791babcac52",
   "metadata": {},
   "outputs": [
    {
     "name": "stdin",
     "output_type": "stream",
     "text": [
      "enter year:-  1994\n"
     ]
    },
    {
     "name": "stdout",
     "output_type": "stream",
     "text": [
      "its not a leap year\n"
     ]
    }
   ],
   "source": [
    "#simple python code to check whether its a leap year or not \n",
    "year = int(input(\"enter year:- \"))\n",
    "\n",
    "if year %4==0:\n",
    "    print(\"its a leap yaer\")\n",
    "else:\n",
    "    print(\"its not a leap year\")"
   ]
  },
  {
   "cell_type": "markdown",
   "id": "9f019fe6-9fa2-4751-a02e-891a4c3b43f5",
   "metadata": {},
   "source": [
    "# Maximun number in a 3 numbers"
   ]
  },
  {
   "cell_type": "code",
   "execution_count": 51,
   "id": "e8151ecf-ea6d-47f0-a10d-0d9897c15a36",
   "metadata": {},
   "outputs": [
    {
     "name": "stdin",
     "output_type": "stream",
     "text": [
      "enter 1st number:-  20\n",
      "enter 2nd number:-  25\n",
      "enter 3rd number:-  12\n"
     ]
    },
    {
     "name": "stdout",
     "output_type": "stream",
     "text": [
      "25 B is greater\n"
     ]
    }
   ],
   "source": [
    "# maximun number in a 3 numbers\n",
    "A = int(input(\"enter 1st number:- \"))\n",
    "B = int(input(\"enter 2nd number:- \"))\n",
    "C = int(input(\"enter 3rd number:- \"))\n",
    "if A > B and A > C :\n",
    "    print(A,\"A is greater\")\n",
    "elif B > C and B > A:\n",
    "    print(B,\"B is greater\")\n",
    "else:\n",
    "    print(C,\"C is grteater\")"
   ]
  },
  {
   "cell_type": "markdown",
   "id": "cb6c5c81-03da-4645-9e72-c289e39659af",
   "metadata": {},
   "source": [
    "# Traffic signals"
   ]
  },
  {
   "cell_type": "code",
   "execution_count": 79,
   "id": "07e17b8a-48ab-4407-a0e6-a85ad3e6ac68",
   "metadata": {},
   "outputs": [
    {
     "name": "stdin",
     "output_type": "stream",
     "text": [
      "enter a color red\n"
     ]
    },
    {
     "name": "stdout",
     "output_type": "stream",
     "text": [
      "stop\n"
     ]
    }
   ],
   "source": [
    "#traffic signals\n",
    "color = input(\"enter a color\")\n",
    "\n",
    "if color == \"red\":\n",
    "    print(\"stop\")\n",
    "elif color == \"orange\":\n",
    "    print(\"ready\")\n",
    "elif color == \"green\":\n",
    "    print(\"go\")\n",
    "else:\n",
    "    print(\"invalid input\")"
   ]
  },
  {
   "cell_type": "markdown",
   "id": "72d280cd-6146-4739-bc50-f07c513b9c32",
   "metadata": {},
   "source": [
    "# Vowels and consonants"
   ]
  },
  {
   "cell_type": "code",
   "execution_count": 85,
   "id": "8dd3dc58-2871-4721-b707-654a39e22682",
   "metadata": {},
   "outputs": [
    {
     "name": "stdin",
     "output_type": "stream",
     "text": [
      "enter alphabet:-  i\n"
     ]
    },
    {
     "name": "stdout",
     "output_type": "stream",
     "text": [
      "i vowel\n"
     ]
    }
   ],
   "source": [
    "#vowels and consonants\n",
    "alphabet= input(\"enter alphabet:- \")\n",
    "vowels = [\"a\",\"e\",\"i\",\"o\",\"u\"]\n",
    "if alphabet in vowels:\n",
    "    print(alphabet, \"vowel\")\n",
    "else:\n",
    "    print(alphabet,\"consonant\")"
   ]
  },
  {
   "cell_type": "markdown",
   "id": "8d28352f-8289-484f-9f7a-1a6c3f85ce68",
   "metadata": {},
   "source": [
    "# String reverse "
   ]
  },
  {
   "cell_type": "code",
   "execution_count": 13,
   "id": "65542813-19fb-4f26-a1bd-fff2c8aa7b2b",
   "metadata": {},
   "outputs": [
    {
     "name": "stdin",
     "output_type": "stream",
     "text": [
      "enter sentence:-  divya\n"
     ]
    },
    {
     "name": "stdout",
     "output_type": "stream",
     "text": [
      "ayvid\n"
     ]
    }
   ],
   "source": [
    "#string reverse\n",
    "sentence = input(\"enter sentence:- \")\n",
    "print(sentence[::-1])"
   ]
  },
  {
   "cell_type": "markdown",
   "id": "d3569783-2445-45d3-ac1d-31e954cde077",
   "metadata": {},
   "source": [
    "# Python code to remove dublicates in a list"
   ]
  },
  {
   "cell_type": "code",
   "execution_count": 69,
   "id": "e0f06e8e-4b42-4e43-8bba-97f42bd79c36",
   "metadata": {},
   "outputs": [
    {
     "name": "stdin",
     "output_type": "stream",
     "text": [
      "enter a list of numbers :-  10,10,20,20,30\n"
     ]
    },
    {
     "name": "stdout",
     "output_type": "stream",
     "text": [
      "list[{'1', ',', '2', '0', '3'}]\n"
     ]
    }
   ],
   "source": [
    "#python code to remove dublicates in a list\n",
    "A = input(\"enter a list of numbers :- \")\n",
    "B = list[set(A)]\n",
    "\n",
    "print(B)\n"
   ]
  },
  {
   "cell_type": "markdown",
   "id": "97fc5821-6cc7-46ed-bff1-932ee5ac7a28",
   "metadata": {},
   "source": [
    "# Python code to swap two numbers"
   ]
  },
  {
   "cell_type": "code",
   "execution_count": 38,
   "id": "29323725-57bd-4e08-a188-4ef5b7aeb468",
   "metadata": {},
   "outputs": [
    {
     "name": "stdin",
     "output_type": "stream",
     "text": [
      "enter A number :-  10\n",
      "enter B number :-  20\n"
     ]
    },
    {
     "name": "stdout",
     "output_type": "stream",
     "text": [
      "After Swapping: A: 20 B: 10\n"
     ]
    }
   ],
   "source": [
    "# python code to swap two numbers\n",
    "A = int(input(\"enter A number :- \"))\n",
    "B = int(input(\"enter B number :- \"))\n",
    "A,B=B,A\n",
    "print(\"After Swapping:\",\"A:\",A,\"B:\",B)"
   ]
  },
  {
   "cell_type": "code",
   "execution_count": null,
   "id": "515c34fe-11a6-4bee-8f01-ea52cc851ba7",
   "metadata": {},
   "outputs": [],
   "source": []
  }
 ],
 "metadata": {
  "kernelspec": {
   "display_name": "Python 3 (ipykernel)",
   "language": "python",
   "name": "python3"
  },
  "language_info": {
   "codemirror_mode": {
    "name": "ipython",
    "version": 3
   },
   "file_extension": ".py",
   "mimetype": "text/x-python",
   "name": "python",
   "nbconvert_exporter": "python",
   "pygments_lexer": "ipython3",
   "version": "3.12.4"
  }
 },
 "nbformat": 4,
 "nbformat_minor": 5
}
